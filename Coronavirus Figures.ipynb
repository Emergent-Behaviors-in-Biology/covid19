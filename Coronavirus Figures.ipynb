{
 "cells": [
  {
   "cell_type": "code",
   "execution_count": 1,
   "metadata": {
    "ExecuteTime": {
     "end_time": "2020-04-17T22:22:29.609568Z",
     "start_time": "2020-04-17T22:22:21.978235Z"
    },
    "collapsed": true
   },
   "outputs": [],
   "source": [
    "from sklearn.linear_model import LinearRegression\n",
    "from matplotlib.backends import backend_pdf as bpdf\n",
    "from covid_functions import *\n",
    "%matplotlib inline\n",
    "\n",
    "#Only use data up through April 15\n",
    "cutoff_time = datetime(2020,4,15)\n",
    "\n",
    "#Load data from JH repository\n",
    "base_url = 'https://raw.githubusercontent.com/CSSEGISandData/COVID-19/master/csse_covid_19_data/csse_covid_19_time_series/'\n",
    "cases_global = format_JH(base_url+'time_series_covid19_confirmed_global.csv',['Lat','Long'],['Country/Region','Province/State'])\n",
    "deaths_global = format_JH(base_url+'time_series_covid19_deaths_global.csv',['Lat','Long'],['Country/Region','Province/State'])\n",
    "cases_US = format_JH(base_url+'time_series_covid19_confirmed_US.csv',['UID','iso2','iso3','code3','FIPS','Lat','Long_','Combined_Key'],['Country_Region','Province_State','Admin2'])\n",
    "deaths_US = format_JH(base_url+'time_series_covid19_deaths_US.csv',['UID','iso2','iso3','code3','FIPS','Lat','Long_','Combined_Key','Population'],['Country_Region','Province_State','Admin2'])\n",
    "cases_US = cases_US.T.groupby(level=[0,1]).sum().T\n",
    "deaths_US = deaths_US.T.groupby(level=[0,1]).sum().T\n",
    "#Join US and global data into single table\n",
    "cases = cases_global.join(cases_US).loc[:cutoff_time]\n",
    "deaths = deaths_global.join(deaths_US).loc[:cutoff_time]\n",
    "\n",
    "#Load best-fit parameters\n",
    "params_deaths=pd.read_csv('output/params_deaths_apr15.csv').fillna(value='NaN').set_index(['Country/Region','Province/State'])\n",
    "params_cases=pd.read_csv('output/params_cases_apr15.csv').fillna(value='NaN').set_index(['Country/Region','Province/State'])\n",
    "\n",
    "#Load full prediction tables, with confidence bounds\n",
    "predictions_deaths = format_predictions('output/predictions_deaths_apr15.csv')\n",
    "predictions_cases = format_predictions('output/predictions_cases_apr15.csv')"
   ]
  },
  {
   "cell_type": "markdown",
   "metadata": {},
   "source": [
    "# Look at current numbers"
   ]
  },
  {
   "cell_type": "code",
   "execution_count": 2,
   "metadata": {
    "ExecuteTime": {
     "end_time": "2020-04-17T22:22:30.845386Z",
     "start_time": "2020-04-17T22:22:30.792792Z"
    },
    "scrolled": true
   },
   "outputs": [
    {
     "data": {
      "text/plain": [
       "Country/Region      Province/State\n",
       "US                  NaN               28325\n",
       "Italy               NaN               21645\n",
       "Spain               NaN               18708\n",
       "France              NaN               17167\n",
       "United Kingdom      NaN               12868\n",
       "US                  New York          11617\n",
       "Iran                NaN                4777\n",
       "Belgium             NaN                4440\n",
       "Germany             NaN                3804\n",
       "China               Hubei              3222\n",
       "US                  New Jersey         3156\n",
       "Netherlands         NaN                3134\n",
       "US                  Michigan           1921\n",
       "Brazil              NaN                1736\n",
       "Turkey              NaN                1518\n",
       "Switzerland         NaN                1239\n",
       "Sweden              NaN                1203\n",
       "US                  Massachusetts      1108\n",
       "                    Louisiana          1103\n",
       "                    Illinois            949\n",
       "                    Connecticut         868\n",
       "                    California          860\n",
       "                    Pennsylvania        779\n",
       "Portugal            NaN                 599\n",
       "US                  Florida             596\n",
       "                    Georgia             552\n",
       "                    Washington          552\n",
       "Canada              Quebec              487\n",
       "Indonesia           NaN                 469\n",
       "Ireland             NaN                 444\n",
       "                                      ...  \n",
       "Algeria             NaN                 336\n",
       "US                  Colorado            328\n",
       "                    Maryland            311\n",
       "Denmark             NaN                 309\n",
       "Poland              NaN                 286\n",
       "Peru                NaN                 254\n",
       "Korea, South        NaN                 225\n",
       "Russia              NaN                 198\n",
       "US                  Virginia            195\n",
       "Dominican Republic  NaN                 189\n",
       "US                  Wisconsin           183\n",
       "Egypt               NaN                 183\n",
       "Czechia             NaN                 166\n",
       "US                  Missouri            153\n",
       "Norway              NaN                 150\n",
       "Japan               NaN                 146\n",
       "US                  Arizona             142\n",
       "Hungary             NaN                 134\n",
       "US                  Nevada              131\n",
       "Colombia            NaN                 131\n",
       "Israel              NaN                 130\n",
       "US                  North Carolina      130\n",
       "Morocco             NaN                 127\n",
       "US                  Tennessee           124\n",
       "                    Oklahoma            123\n",
       "                    Mississippi         122\n",
       "                    Alabama             118\n",
       "                    Kentucky            115\n",
       "Pakistan            NaN                 111\n",
       "Argentina           NaN                 111\n",
       "Name: 2020-04-15 00:00:00, Length: 70, dtype: object"
      ]
     },
     "execution_count": 2,
     "metadata": {},
     "output_type": "execute_result"
    }
   ],
   "source": [
    "deaths.iloc[-1].sort_values(ascending=False).iloc[:70]"
   ]
  },
  {
   "cell_type": "code",
   "execution_count": 3,
   "metadata": {
    "ExecuteTime": {
     "end_time": "2020-04-17T22:22:31.924170Z",
     "start_time": "2020-04-17T22:22:31.901509Z"
    },
    "scrolled": true
   },
   "outputs": [
    {
     "data": {
      "text/plain": [
       "Country/Region  Province/State      \n",
       "US              NaN                     636350\n",
       "                New York                214454\n",
       "Spain           NaN                     177644\n",
       "Italy           NaN                     165155\n",
       "Germany         NaN                     134753\n",
       "France          NaN                     133470\n",
       "United Kingdom  NaN                      98476\n",
       "Iran            NaN                      76389\n",
       "US              New Jersey               71030\n",
       "Turkey          NaN                      69392\n",
       "China           Hubei                    67803\n",
       "Belgium         NaN                      33573\n",
       "US              Massachusetts            29918\n",
       "Brazil          NaN                      28320\n",
       "Netherlands     NaN                      28153\n",
       "US              Michigan                 28059\n",
       "                Pennsylvania             26753\n",
       "                California               26686\n",
       "Switzerland     NaN                      26336\n",
       "US              Illinois                 24593\n",
       "Russia          NaN                      24490\n",
       "US              Florida                  22511\n",
       "                Louisiana                21951\n",
       "Portugal        NaN                      18091\n",
       "US              Texas                    15907\n",
       "                Georgia                  14987\n",
       "Canada          Quebec                   14860\n",
       "US              Connecticut              14755\n",
       "Austria         NaN                      14336\n",
       "Ireland         NaN                      12547\n",
       "                                         ...  \n",
       "Panama          NaN                       3574\n",
       "Luxembourg      NaN                       3373\n",
       "US              Mississippi               3360\n",
       "                Rhode Island              3251\n",
       "Finland         NaN                       3237\n",
       "US              Nevada                    3211\n",
       "Colombia        NaN                       3105\n",
       "Australia       New South Wales           2886\n",
       "Thailand        NaN                       2643\n",
       "US              Utah                      2548\n",
       "South Africa    NaN                       2506\n",
       "Egypt           NaN                       2505\n",
       "Argentina       NaN                       2443\n",
       "US              Oklahoma                  2263\n",
       "                Kentucky                  2210\n",
       "                District of Columbia      2197\n",
       "Greece          NaN                       2192\n",
       "Algeria         NaN                       2160\n",
       "Moldova         NaN                       2049\n",
       "Morocco         NaN                       2024\n",
       "US              Delaware                  2014\n",
       "                Iowa                      1995\n",
       "Canada          Alberta                   1870\n",
       "US              Minnesota                 1809\n",
       "Croatia         NaN                       1741\n",
       "Iceland         NaN                       1727\n",
       "Bahrain         NaN                       1671\n",
       "US              Oregon                    1663\n",
       "Hungary         NaN                       1579\n",
       "US              Arkansas                  1569\n",
       "Name: 2020-04-15 00:00:00, Length: 100, dtype: object"
      ]
     },
     "execution_count": 3,
     "metadata": {},
     "output_type": "execute_result"
    }
   ],
   "source": [
    "cases.iloc[-1].sort_values(ascending=False).iloc[:100]"
   ]
  },
  {
   "cell_type": "markdown",
   "metadata": {},
   "source": [
    "# Make fits"
   ]
  },
  {
   "cell_type": "code",
   "execution_count": 4,
   "metadata": {
    "ExecuteTime": {
     "end_time": "2020-04-17T22:22:46.927641Z",
     "start_time": "2020-04-17T22:22:32.991575Z"
    },
    "collapsed": true
   },
   "outputs": [],
   "source": [
    "params_cases = fit_all(cases,plot=False,ylabel='Confirmed Cases',p0=5e2)\n",
    "params_deaths = fit_all(deaths,plot=False,ylabel='Fatalities',p0=50)\n",
    "params_cases.dropna().to_csv('output/params_cases_apr15.csv')\n",
    "params_deaths.dropna().to_csv('output/params_deaths_apr15.csv')\n",
    "\n",
    "params_deaths=pd.read_csv('output/params_deaths_apr15.csv').fillna(value='NaN').set_index(['Country/Region','Province/State'])\n",
    "params_cases=pd.read_csv('output/params_cases_apr15.csv').fillna(value='NaN').set_index(['Country/Region','Province/State'])"
   ]
  },
  {
   "cell_type": "markdown",
   "metadata": {},
   "source": [
    "# Early exponential to power law behavior"
   ]
  },
  {
   "cell_type": "code",
   "execution_count": 5,
   "metadata": {
    "ExecuteTime": {
     "end_time": "2020-04-17T22:19:43.655687Z",
     "start_time": "2020-04-17T22:19:36.029809Z"
    }
   },
   "outputs": [
    {
     "data": {
      "image/png": "[encoded data removed]",
      "text/plain": [
       "<Figure size 720x180 with 3 Axes>"
      ]
     },
     "metadata": {},
     "output_type": "display_data"
    },
    {
     "data": {
      "image/png": "[encoded data removed]",
      "text/plain": [
       "<Figure size 720x180 with 3 Axes>"
      ]
     },
     "metadata": {},
     "output_type": "display_data"
    },
    {
     "data": {
      "image/png": "[encoded data removed]",
      "text/plain": [
       "<Figure size 720x180 with 3 Axes>"
      ]
     },
     "metadata": {},
     "output_type": "display_data"
    }
   ],
   "source": [
    "#Set up parameters\n",
    "start_cutoff = 5\n",
    "use_times = 30\n",
    "ms = 4\n",
    "daymin=-150\n",
    "daymax=100\n",
    "t_pred = pd.to_datetime([datetime.today()+timedelta(days=k) for k in range(daymin,daymax)])\n",
    "\n",
    "for country,region in [('China','Hubei'),('Italy','NaN'),('Spain','NaN')]:\n",
    "    #Extract data and best-fit\n",
    "    data = deaths[country,region]\n",
    "    params = params_deaths.loc[country,region]\n",
    "\n",
    "    fig,ax=plt.subplots(1,3,sharey=True,figsize=(10,2.5))\n",
    "    fig.subplots_adjust(left=0.15,bottom=0.22,right=0.98)\n",
    "\n",
    "    #Plot data\n",
    "    plot_data = data.loc[data>=start_cutoff]\n",
    "    t0 = plot_data.index.values[0]\n",
    "    plot_data.index = (plot_data.index-t0)/timedelta(days=1)\n",
    "    plot_data = plot_data.loc[plot_data.index<use_times]\n",
    "    t_plot = plot_data.index.values\n",
    "    ax[1].loglog(t_plot,plot_data.values,'o',label='data',markersize=ms)\n",
    "    ax[0].semilogy(t_plot,plot_data.values,'o',label='data',markersize=ms)\n",
    "\n",
    "    #Make linear regressions\n",
    "    fit_early = plot_data.iloc[:7]\n",
    "    fit_late = plot_data.iloc[7:-3]\n",
    "    t_fit_early = fit_early.index.values\n",
    "    t_fit_late = fit_late.index.values\n",
    "    expo = LinearRegression()\n",
    "    power = LinearRegression()\n",
    "    X_all = plot_data.index.values[3:20].reshape(-1,1)\n",
    "    y_all = np.log(pd.to_numeric(plot_data).iloc[3:20].values)\n",
    "    X_early = t_fit_early.reshape(-1,1)\n",
    "    X_late = t_fit_late.reshape(-1,1)\n",
    "    y_early = np.log(pd.to_numeric(fit_early).values)\n",
    "    y_late = np.log(pd.to_numeric(fit_late).values)\n",
    "    expo.fit(X_early,y_early)\n",
    "    power.fit(np.log(X_late),y_late)\n",
    "    y_power = power.predict(np.log(X_late))\n",
    "    y_exp = expo.predict(X_all)\n",
    "    \n",
    "    #Plot regressions and erf fit\n",
    "    ax[1].loglog(X_late.reshape(-1),3*np.exp(y_power))\n",
    "    ax[0].semilogy(X_all.reshape(-1),3*np.exp(y_exp))\n",
    "    out = plot_predictions(data,params,ax=ax[2],log_scale=True,conf_type=None,p0=50,t_pred = t_pred)\n",
    "\n",
    "    #Make labels\n",
    "    ax[0].set_xlabel(r'Elapsed time $t-t_0$ (days, linear scale)')\n",
    "    ax[1].set_xlabel(r'Elapsed time $t-t_0$ (days, log scale)')\n",
    "    ax[2].set_xlabel(r'Elapsed time $t-t_0$ (days, log scale)')\n",
    "    ax[0].set_ylabel('Cumulative fatalities')\n",
    "    ax[0].set_ylim((10,1e5))\n",
    "    if country == 'China':\n",
    "        ax[1].set_title(', '.join([country,region]),fontsize=14)\n",
    "    else:\n",
    "        ax[1].set_title(country,fontsize=14)\n",
    "    ax[2].legend()\n",
    "    ax[0].set_xlim((1,use_times))\n",
    "    ax[1].set_xlim((1,use_times))\n",
    "    ax[2].set_xlim((1,100))\n",
    "    ax[0].text(0.05,0.88,r'$t_0 = $ '+np.datetime_as_string(t0)[:10],fontsize=11,transform=ax[0].transAxes)\n",
    "    \n",
    "    #Save\n",
    "    pdf = bpdf.PdfPages('figures/example_'+country+'.pdf')\n",
    "    pdf.savefig(fig)\n",
    "    pdf.close()\n",
    "    plt.show()"
   ]
  },
  {
   "cell_type": "code",
   "execution_count": 6,
   "metadata": {
    "ExecuteTime": {
     "end_time": "2020-04-17T22:19:49.862389Z",
     "start_time": "2020-04-17T22:19:43.671645Z"
    }
   },
   "outputs": [
    {
     "data": {
      "image/png": "[encoded data removed]",
      "text/plain": [
       "<Figure size 720x180 with 3 Axes>"
      ]
     },
     "metadata": {},
     "output_type": "display_data"
    },
    {
     "data": {
      "image/png": "[encoded data removed]",
      "text/plain": [
       "<Figure size 720x180 with 3 Axes>"
      ]
     },
     "metadata": {},
     "output_type": "display_data"
    },
    {
     "data": {
      "image/png": "[encoded data removed]",
      "text/plain": [
       "<Figure size 720x180 with 3 Axes>"
      ]
     },
     "metadata": {},
     "output_type": "display_data"
    }
   ],
   "source": [
    "#Set up\n",
    "start_cutoff = 5\n",
    "use_times = 30\n",
    "ms = 4\n",
    "daymin=-150\n",
    "daymax=100\n",
    "t_pred = pd.to_datetime([datetime.today()+timedelta(days=k) for k in range(daymin,daymax)])\n",
    "\n",
    "for country,region in [('China','Hubei'),('Italy','NaN'),('Spain','NaN')]:\n",
    "    #Extract data\n",
    "    data = cases[country,region]\n",
    "    params = params_cases.loc[country,region]\n",
    "\n",
    "    fig,ax=plt.subplots(1,3,sharey=True,figsize=(10,2.5))\n",
    "    fig.subplots_adjust(left=0.15,bottom=0.22,right=0.98)\n",
    "\n",
    "    #Plot data\n",
    "    plot_data = data.loc[data>=start_cutoff]\n",
    "    t0 = plot_data.index.values[0]\n",
    "    plot_data.index = (plot_data.index-t0)/timedelta(days=1)\n",
    "    plot_data = plot_data.loc[plot_data.index<use_times]\n",
    "    t_plot = plot_data.index.values\n",
    "    ax[1].loglog(t_plot,plot_data.values,'o',label='data',markersize=ms)\n",
    "    ax[0].semilogy(t_plot,plot_data.values,'o',label='data',markersize=ms)\n",
    "\n",
    "    #Make linear regressions for guides to the eye\n",
    "    fit_early = plot_data.iloc[:14]\n",
    "    fit_late = plot_data.iloc[10:-3]\n",
    "    t_fit_early = fit_early.index.values\n",
    "    t_fit_late = fit_late.index.values\n",
    "    expo = LinearRegression()\n",
    "    expo2 = LinearRegression()\n",
    "    power = LinearRegression()\n",
    "    X_all = plot_data.index.values[3:20].reshape(-1,1)\n",
    "    y_all = np.log(pd.to_numeric(plot_data).iloc[3:20].values)\n",
    "    X_early = t_fit_early.reshape(-1,1)\n",
    "    X_late = t_fit_late.reshape(-1,1)\n",
    "    y_early = np.log(pd.to_numeric(fit_early).values)\n",
    "    y_late = np.log(pd.to_numeric(fit_late).values)\n",
    "    expo.fit(X_early,y_early)\n",
    "    power.fit(np.log(X_late),y_late)\n",
    "    y_power = power.predict(np.log(X_late))\n",
    "    y_exp = expo.predict(X_all)\n",
    "    \n",
    "    #plot regressions and erf fit\n",
    "    ax[1].loglog(X_late.reshape(-1),3*np.exp(y_power))\n",
    "    ax[0].semilogy(X_all.reshape(-1),3*np.exp(y_exp))\n",
    "    out = plot_predictions(data,params,ax=ax[2],log_scale=True,conf_type=None,p0=500,\n",
    "                           t_pred = t_pred,start_cutoff=start_cutoff)\n",
    "    \n",
    "    #Annotate\n",
    "    ax[0].text(0.05,0.88,r'$t_0 = $ '+np.datetime_as_string(t0)[:10],fontsize=11,transform=ax[0].transAxes)\n",
    "    ax[0].set_xlabel(r'Elapsed time $t-t_0$ (days, linear scale)')\n",
    "    ax[1].set_xlabel(r'Elapsed time $t-t_0$ (days, log scale)')\n",
    "    ax[2].set_xlabel(r'Elapsed time $t-t_0$ (days, log scale)')\n",
    "    ax[0].set_ylabel('Cumulative confirmed cases')\n",
    "    ax[0].set_ylim((10,1e6))\n",
    "    if country == 'China':\n",
    "        ax[1].set_title(', '.join([country,region]),fontsize=14)\n",
    "    else:\n",
    "        ax[1].set_title(country,fontsize=14)\n",
    "    ax[2].legend()\n",
    "    ax[0].set_xlim((1,use_times))\n",
    "    ax[1].set_xlim((1,use_times))\n",
    "    ax[2].set_xlim((1,100))\n",
    "    \n",
    "    #Save\n",
    "    pdf = bpdf.PdfPages('figures/example_'+country+'_cases.pdf')\n",
    "    pdf.savefig(fig)\n",
    "    pdf.close()\n",
    "    plt.show()"
   ]
  },
  {
   "cell_type": "markdown",
   "metadata": {},
   "source": [
    "# Make predictions"
   ]
  },
  {
   "cell_type": "code",
   "execution_count": null,
   "metadata": {
    "ExecuteTime": {
     "start_time": "2020-04-17T22:19:07.104Z"
    }
   },
   "outputs": [
    {
     "name": "stdout",
     "output_type": "stream",
     "text": [
      "Total regions = 322\n",
      "Analyzed regions = 79\n",
      "Analyzed states = 30\n"
     ]
    }
   ],
   "source": [
    "print('Total regions = '+str(len(deaths.T)))\n",
    "print('Analyzed regions = '+str(len(params_deaths.drop((('US','NaN'))).dropna())))\n",
    "print('Analyzed states = '+str(len(params_deaths.dropna().loc['US'].drop('NaN'))))"
   ]
  },
  {
   "cell_type": "markdown",
   "metadata": {},
   "source": [
    "## Tabulate predictions for all countries and states"
   ]
  },
  {
   "cell_type": "code",
   "execution_count": 5,
   "metadata": {
    "ExecuteTime": {
     "end_time": "2020-04-17T22:32:58.843347Z",
     "start_time": "2020-04-17T22:22:52.555995Z"
    },
    "scrolled": true
   },
   "outputs": [
    {
     "name": "stdout",
     "output_type": "stream",
     "text": [
      "Algeria, NaN\n",
      "Argentina, NaN\n",
      "Austria, NaN\n",
      "Belgium, NaN\n",
      "Brazil, NaN\n",
      "Canada, Ontario\n",
      "Canada, Quebec\n",
      "Chile, NaN\n",
      "China, Hubei\n",
      "Colombia, NaN\n",
      "Czechia, NaN\n",
      "Denmark, NaN\n",
      "Dominican Republic, NaN\n",
      "Ecuador, NaN\n",
      "Egypt, NaN\n",
      "France, NaN\n",
      "Germany, NaN\n",
      "Greece, NaN\n",
      "Hungary, NaN\n",
      "India, NaN\n",
      "Indonesia, NaN\n",
      "Iran, NaN\n",
      "Iraq, NaN\n",
      "Ireland, NaN\n",
      "Israel, NaN\n",
      "Italy, NaN\n",
      "Japan, NaN\n",
      "Korea, South, NaN\n",
      "Luxembourg, NaN\n",
      "Malaysia, NaN\n",
      "Mexico, NaN\n",
      "Morocco, NaN\n",
      "Netherlands, NaN\n",
      "Norway, NaN\n",
      "Pakistan, NaN\n",
      "Panama, NaN\n",
      "Peru, NaN\n",
      "Philippines, NaN\n",
      "Poland, NaN\n",
      "Portugal, NaN\n",
      "Romania, NaN\n",
      "Russia, NaN\n",
      "Serbia, NaN\n",
      "Spain, NaN\n",
      "Sweden, NaN\n",
      "Switzerland, NaN\n",
      "Turkey, NaN\n",
      "Ukraine, NaN\n",
      "United Kingdom, NaN\n",
      "US, NaN\n",
      "US, Alabama\n",
      "US, Arizona\n",
      "US, California\n",
      "US, Colorado\n",
      "US, Connecticut\n",
      "US, Florida\n",
      "US, Georgia\n",
      "US, Illinois\n",
      "US, Indiana\n",
      "US, Kentucky\n",
      "US, Louisiana\n",
      "US, Maryland\n",
      "US, Massachusetts\n",
      "US, Michigan\n",
      "US, Minnesota\n",
      "US, Mississippi\n",
      "US, Missouri\n",
      "US, Nevada\n",
      "US, New Jersey\n",
      "US, New York\n",
      "US, North Carolina\n",
      "US, Ohio\n",
      "US, Oklahoma\n",
      "US, Pennsylvania\n",
      "US, South Carolina\n",
      "US, Tennessee\n",
      "US, Texas\n",
      "US, Virginia\n",
      "US, Washington\n",
      "US, Wisconsin\n",
      "Afghanistan, NaN\n",
      "Algeria, NaN\n",
      "Andorra, NaN\n",
      "Argentina, NaN\n",
      "Armenia, NaN\n",
      "Australia, New South Wales\n",
      "Australia, Queensland\n",
      "Australia, Victoria\n",
      "Australia, Western Australia\n",
      "Austria, NaN\n",
      "Azerbaijan, NaN\n",
      "Bahrain, NaN\n",
      "Belarus, NaN\n",
      "Belgium, NaN\n",
      "Bosnia and Herzegovina, NaN\n",
      "Brazil, NaN\n",
      "Bulgaria, NaN\n",
      "Cameroon, NaN\n",
      "Canada, Alberta\n",
      "Canada, British Columbia\n",
      "Canada, Ontario\n",
      "Canada, Quebec\n",
      "Chile, NaN\n",
      "China, Anhui\n",
      "China, Beijing\n",
      "China, Chongqing\n",
      "China, Guangdong\n",
      "China, Heilongjiang\n",
      "China, Henan\n",
      "China, Hong Kong\n",
      "China, Hubei\n",
      "China, Hunan\n",
      "China, Jiangsu\n",
      "China, Jiangxi\n",
      "China, Shandong\n",
      "China, Shanghai\n",
      "China, Sichuan\n",
      "China, Zhejiang\n",
      "Colombia, NaN\n",
      "Costa Rica, NaN\n",
      "Croatia, NaN\n",
      "Diamond Princess, NaN\n",
      "Cuba, NaN\n",
      "Cyprus, NaN\n",
      "Czechia, NaN\n",
      "Denmark, NaN\n",
      "Dominican Republic, NaN\n",
      "Ecuador, NaN\n",
      "Egypt, NaN\n",
      "Estonia, NaN\n",
      "Finland, NaN\n",
      "France, NaN\n",
      "Germany, NaN\n",
      "Greece, NaN\n",
      "Hungary, NaN\n",
      "Iceland, NaN\n",
      "India, NaN\n",
      "Indonesia, NaN\n",
      "Iran, NaN\n",
      "Iraq, NaN\n",
      "Ireland, NaN\n",
      "Israel, NaN\n",
      "Italy, NaN\n",
      "Japan, NaN\n",
      "Kazakhstan, NaN\n",
      "Korea, South, NaN\n",
      "Kuwait, NaN\n",
      "Latvia, NaN\n",
      "Lebanon, NaN\n",
      "Lithuania, NaN\n",
      "Luxembourg, NaN\n",
      "Malaysia, NaN\n",
      "Mexico, NaN\n",
      "Moldova, NaN\n",
      "Morocco, NaN\n",
      "Netherlands, NaN\n",
      "New Zealand, NaN\n",
      "North Macedonia, NaN\n",
      "Norway, NaN\n",
      "Pakistan, NaN\n",
      "Panama, NaN\n",
      "Peru, NaN\n",
      "Philippines, NaN\n",
      "Poland, NaN\n",
      "Portugal, NaN\n",
      "Qatar, NaN\n",
      "Romania, NaN\n",
      "Russia, NaN\n",
      "Saudi Arabia, NaN\n",
      "Serbia, NaN\n",
      "Singapore, NaN\n",
      "Slovakia, NaN\n",
      "Slovenia, NaN\n",
      "South Africa, NaN\n",
      "Spain, NaN\n",
      "Sweden, NaN\n",
      "Switzerland, NaN\n",
      "Thailand, NaN\n",
      "Tunisia, NaN\n",
      "Turkey, NaN\n",
      "Ukraine, NaN\n",
      "United Arab Emirates, NaN\n",
      "United Kingdom, NaN\n",
      "US, NaN\n",
      "Uzbekistan, NaN\n",
      "US, Alabama\n",
      "US, Arizona\n",
      "US, Arkansas\n",
      "US, California\n",
      "US, Colorado\n",
      "US, Connecticut\n",
      "US, Delaware\n",
      "US, District of Columbia\n",
      "US, Florida\n",
      "US, Georgia\n",
      "US, Idaho\n",
      "US, Illinois\n",
      "US, Indiana\n",
      "US, Iowa\n",
      "US, Kansas\n",
      "US, Kentucky\n",
      "US, Louisiana\n",
      "US, Maine\n",
      "US, Maryland\n",
      "US, Massachusetts\n",
      "US, Michigan\n",
      "US, Minnesota\n",
      "US, Mississippi\n",
      "US, Missouri\n",
      "US, Nebraska\n",
      "US, Nevada\n",
      "US, New Hampshire\n",
      "US, New Jersey\n",
      "US, New Mexico\n",
      "US, New York\n",
      "US, North Carolina\n",
      "US, Ohio\n",
      "US, Oklahoma\n",
      "US, Oregon\n",
      "US, Pennsylvania\n",
      "US, Puerto Rico\n",
      "US, Rhode Island\n",
      "US, South Carolina\n",
      "US, South Dakota\n",
      "US, Tennessee\n",
      "US, Texas\n",
      "US, Utah\n",
      "US, Vermont\n",
      "US, Virginia\n",
      "US, Washington\n",
      "US, West Virginia\n",
      "US, Wisconsin\n"
     ]
    }
   ],
   "source": [
    "predictions_deaths = predict_all(deaths,params_deaths,p0=50)\n",
    "predictions_deaths.to_csv('output/predictions_deaths_apr15.csv')\n",
    "predictions_cases = predict_all(cases,params_cases,p0=500)\n",
    "predictions_cases.to_csv('output/predictions_cases_apr15.csv')"
   ]
  },
  {
   "cell_type": "markdown",
   "metadata": {},
   "source": [
    "## Plot predictions for top countries"
   ]
  },
  {
   "cell_type": "markdown",
   "metadata": {},
   "source": [
    "### Fatalities"
   ]
  },
  {
   "cell_type": "code",
   "execution_count": null,
   "metadata": {
    "ExecuteTime": {
     "start_time": "2020-04-18T03:10:18.161Z"
    }
   },
   "outputs": [],
   "source": [
    "params_list = params_deaths\n",
    "data = deaths\n",
    "p0 = 50\n",
    "daymin=-100\n",
    "daymax=100\n",
    "thresh = 500\n",
    "c=0.95\n",
    "drop_list = ['US','China','Italy','Spain']\n",
    "current_fatalities = deaths.iloc[-1]\n",
    "current_fatalities = current_fatalities.sort_index().drop(drop_list).loc[current_fatalities>thresh].sort_values(ascending=False)\n",
    "top_countries = current_fatalities.index[:10]\n",
    "t_pred = pd.to_datetime([datetime.today()+timedelta(days=k) for k in range(daymin,daymax)])\n",
    "\n",
    "fig,ax=plt.subplots(2,5,sharey=True,sharex=True,figsize=((10,4)))\n",
    "k = 0\n",
    "ax = ax.reshape(-1)\n",
    "for item in top_countries:\n",
    "    train = data[item]\n",
    "    params = params_list.loc[item].copy()\n",
    "    f,a,params_good = plot_predictions(train,params,p0=p0,conf_type='sigma',log_scale=True,t_pred=t_pred,ax=ax[k],c=c)\n",
    "    ax[k].set_xlabel('')\n",
    "    ax[k].set_ylim((p0,1e5))\n",
    "    ax[k].set_xlim((5,1e2))\n",
    "    ax[k].text(0.05,0.88,item[0],fontsize=11,transform=ax[k].transAxes)\n",
    "    k+=1\n",
    "pdf = bpdf.PdfPages('figures/global_pred.pdf')\n",
    "pdf.savefig(fig)\n",
    "pdf.close()\n",
    "plt.show()"
   ]
  },
  {
   "cell_type": "markdown",
   "metadata": {},
   "source": [
    "### Cases"
   ]
  },
  {
   "cell_type": "code",
   "execution_count": null,
   "metadata": {
    "ExecuteTime": {
     "start_time": "2020-04-17T22:19:07.123Z"
    }
   },
   "outputs": [],
   "source": [
    "params_list = params_cases\n",
    "data = cases\n",
    "p0 = 500\n",
    "daymin=-100\n",
    "daymax=100\n",
    "thresh = 500\n",
    "c=0.95\n",
    "drop_list = ['US','China','Italy','Spain']\n",
    "current_fatalities = deaths.iloc[-1]\n",
    "current_fatalities = current_fatalities.sort_index().drop(drop_list).loc[current_fatalities>thresh].sort_values(ascending=False)\n",
    "top_countries = current_fatalities.index[:10]\n",
    "t_pred = pd.to_datetime([datetime.today()+timedelta(days=k) for k in range(daymin,daymax)])\n",
    "\n",
    "fig,ax=plt.subplots(2,5,sharey=True,sharex=True,figsize=((10,4)))\n",
    "k = 0\n",
    "ax = ax.reshape(-1)\n",
    "for item in top_countries:\n",
    "    train = data[item]\n",
    "    params = params_list.loc[item].copy()\n",
    "    f,a,params_good = plot_predictions(train,params,p0=p0,conf_type='sigma',log_scale=True,t_pred=t_pred,ax=ax[k],c=c)\n",
    "    ax[k].set_xlabel('')\n",
    "    ax[k].set_ylim((p0,1e6))\n",
    "    ax[k].set_xlim((9,1e2))\n",
    "    ax[k].text(0.05,0.88,item[0],fontsize=11,transform=ax[k].transAxes)\n",
    "    k+=1\n",
    "pdf = bpdf.PdfPages('figures/global_pred_cases.pdf')\n",
    "pdf.savefig(fig)\n",
    "pdf.close()\n",
    "plt.show()"
   ]
  },
  {
   "cell_type": "markdown",
   "metadata": {},
   "source": [
    "## Plot predictions for top US states"
   ]
  },
  {
   "cell_type": "markdown",
   "metadata": {},
   "source": [
    "### Fatalities"
   ]
  },
  {
   "cell_type": "code",
   "execution_count": null,
   "metadata": {
    "ExecuteTime": {
     "start_time": "2020-04-17T22:19:07.130Z"
    }
   },
   "outputs": [],
   "source": [
    "params_list = params_deaths.loc['US']\n",
    "data = deaths['US']\n",
    "p0 = 50\n",
    "daymin=-100\n",
    "daymax=100\n",
    "c=0.95\n",
    "current_fatalities = data.iloc[-1]\n",
    "current_fatalities = current_fatalities.sort_index().drop('NaN').sort_values(ascending=False)\n",
    "top_countries = current_fatalities.index[:10]\n",
    "t_pred = pd.to_datetime([datetime.today()+timedelta(days=k) for k in range(daymin,daymax)])\n",
    "\n",
    "fig,ax=plt.subplots(2,5,sharey=True,sharex=True,figsize=((10,4)))\n",
    "k = 0\n",
    "ax = ax.reshape(-1)\n",
    "for item in top_countries:\n",
    "    train = data[item]\n",
    "    params = params_list.loc[item].copy()\n",
    "    f,a,params_good = plot_predictions(train,params,p0=p0,conf_type='sigma',log_scale=True,t_pred=t_pred,ax=ax[k],c=c)\n",
    "    ax[k].set_xlabel('')\n",
    "    ax[k].set_ylim((p0,1e5))\n",
    "    ax[k].set_xlim((5,1e2))\n",
    "    ax[k].text(0.05,0.88,item,fontsize=11,transform=ax[k].transAxes)\n",
    "    k+=1\n",
    "pdf = bpdf.PdfPages('figures/US_pred.pdf')\n",
    "pdf.savefig(fig)\n",
    "pdf.close()\n",
    "plt.show()"
   ]
  },
  {
   "cell_type": "markdown",
   "metadata": {},
   "source": [
    "### Cases"
   ]
  },
  {
   "cell_type": "code",
   "execution_count": null,
   "metadata": {
    "ExecuteTime": {
     "start_time": "2020-04-17T22:19:07.137Z"
    }
   },
   "outputs": [],
   "source": [
    "params_list = params_cases.loc['US']\n",
    "data = cases['US']\n",
    "p0 = 500\n",
    "daymin=-100\n",
    "daymax=100\n",
    "c=0.95\n",
    "current = data.iloc[-1]\n",
    "current = current.sort_index().drop('NaN').sort_values(ascending=False)\n",
    "top_countries = current.index[:10]\n",
    "t_pred = pd.to_datetime([datetime.today()+timedelta(days=k) for k in range(daymin,daymax)])\n",
    "\n",
    "fig,ax=plt.subplots(2,5,sharey=True,sharex=True,figsize=((10,4)))\n",
    "k = 0\n",
    "ax = ax.reshape(-1)\n",
    "for item in top_countries:\n",
    "    train = data[item]\n",
    "    params = params_list.loc[item].copy()\n",
    "    f,a,params_good = plot_predictions(train,params,p0=p0,conf_type='sigma',log_scale=True,t_pred=t_pred,ax=ax[k],c=c)\n",
    "    ax[k].set_xlabel('')\n",
    "    ax[k].set_ylim((500,1e6))\n",
    "    ax[k].set_xlim((8,1e2))\n",
    "    ax[k].text(0.05,0.88,item,fontsize=11,transform=ax[k].transAxes)\n",
    "    k+=1\n",
    "pdf = bpdf.PdfPages('figures/US_pred_cases.pdf')\n",
    "pdf.savefig(fig)\n",
    "pdf.close()\n",
    "plt.show()"
   ]
  },
  {
   "cell_type": "markdown",
   "metadata": {},
   "source": [
    "# Data collapse"
   ]
  },
  {
   "cell_type": "markdown",
   "metadata": {},
   "source": [
    "## World > 500"
   ]
  },
  {
   "cell_type": "code",
   "execution_count": null,
   "metadata": {
    "ExecuteTime": {
     "start_time": "2020-04-17T22:19:07.143Z"
    }
   },
   "outputs": [],
   "source": [
    "#Extract countries with current fatalities above threshold\n",
    "thresh = 500\n",
    "current_fatalities = deaths.iloc[-1]\n",
    "current_fatalities = current_fatalities.sort_index().drop('US').loc[current_fatalities>thresh].sort_values(ascending=False)\n",
    "top_countries = current_fatalities.index\n",
    "colors = sns.color_palette()+sns.color_palette('pastel')\n",
    "\n",
    "#Cases raw\n",
    "fig,ax = data_collapse(cases,params_cases.loc[top_countries],scale=False,endpoint=True,ms=5,colors=colors)\n",
    "ax.set_ylabel('Confirmed cases')\n",
    "ax.set_xlabel('Days since Jan 1, 2020')\n",
    "pdf = bpdf.PdfPages('figures/before_collapse_cases.pdf')\n",
    "pdf.savefig(fig)\n",
    "pdf.close()\n",
    "plt.show()\n",
    "\n",
    "#Cases rescaled\n",
    "fig,ax = data_collapse(cases,params_cases.loc[top_countries],endpoint=True,ms=5,colors=colors)\n",
    "#Get legend plotted correctly\n",
    "fig.set_figheight(3)\n",
    "fig.set_figwidth(5.5)\n",
    "ax.set_ylim((1e-3,1.5))\n",
    "ax.set_xlim((-3,3))\n",
    "ax.set_ylabel('Relative confirmed cases')\n",
    "ax.set_xlabel('Rescaled time')\n",
    "ax.set_position([0.22,0.22,0.45,0.7])\n",
    "ax.legend(loc='upper right',bbox_to_anchor=(1.75, 1.1))\n",
    "pdf = bpdf.PdfPages('figures/after_collapse_cases.pdf')\n",
    "pdf.savefig(fig)\n",
    "pdf.close()\n",
    "plt.show()\n",
    "\n",
    "#Fatalities raw\n",
    "fig,ax = data_collapse(deaths,params_deaths.loc[top_countries],scale=False,endpoint=True,ms=5,colors=colors)\n",
    "ax.set_ylabel('Cumulative fatalities')\n",
    "ax.set_xlabel('Days since Jan 1, 2020')\n",
    "pdf = bpdf.PdfPages('figures/before_collapse_deaths.pdf')\n",
    "pdf.savefig(fig)\n",
    "pdf.close()\n",
    "plt.show()\n",
    "\n",
    "#Fatalities rescaled\n",
    "fig,ax = data_collapse(deaths,params_deaths.loc[top_countries],endpoint=True,ms=5,colors=colors)\n",
    "#Get legend plotted correctly\n",
    "fig.set_figheight(3)\n",
    "fig.set_figwidth(5.5)\n",
    "ax.set_ylim((1e-3,1.5))\n",
    "ax.set_xlim((-3,3))\n",
    "ax.set_ylabel('Relative fatalities')\n",
    "ax.set_xlabel('Rescaled time')\n",
    "ax.set_position([0.22,0.22,0.45,0.7])\n",
    "ax.legend(loc='upper right',bbox_to_anchor=(1.75, 1.1))\n",
    "pdf = bpdf.PdfPages('figures/after_collapse_deaths.pdf')\n",
    "pdf.savefig(fig)\n",
    "pdf.close()\n",
    "plt.show()"
   ]
  },
  {
   "cell_type": "markdown",
   "metadata": {},
   "source": [
    "## US > 500"
   ]
  },
  {
   "cell_type": "code",
   "execution_count": null,
   "metadata": {
    "ExecuteTime": {
     "start_time": "2020-04-17T22:19:07.152Z"
    }
   },
   "outputs": [],
   "source": [
    "#Extract states with current fatalities above threshold\n",
    "thresh = 500\n",
    "current_fatalities = deaths['US'].iloc[-1]\n",
    "current_fatalities = current_fatalities.loc[current_fatalities>thresh].sort_index().drop('NaN').sort_values(ascending=False)\n",
    "top_countries = current_fatalities.index\n",
    "\n",
    "#Cases raw\n",
    "fig,ax = data_collapse(cases['US'],params_cases.loc['US'].loc[top_countries],scale=False,endpoint=True,ms=5)\n",
    "ax.set_ylabel('Confirmed cases')\n",
    "ax.set_xlabel('Days since Jan 1, 2020')\n",
    "pdf = bpdf.PdfPages('figures/before_collapse_cases_US.pdf')\n",
    "pdf.savefig(fig)\n",
    "pdf.close()\n",
    "plt.show()\n",
    "\n",
    "#Cases rescaled\n",
    "fig,ax = data_collapse(cases['US'],params_cases.loc['US'].loc[top_countries],endpoint=True,ms=5,colors=colors)\n",
    "#Get legend plotted correctly\n",
    "fig.set_figheight(3)\n",
    "fig.set_figwidth(5.5)\n",
    "ax.set_ylim((1e-3,1.5))\n",
    "ax.set_xlim((-3,3))\n",
    "ax.set_ylabel('Relative confirmed cases')\n",
    "ax.set_xlabel('Rescaled time')\n",
    "ax.set_position([0.22,0.22,0.45,0.7])\n",
    "ax.legend(loc='upper right',bbox_to_anchor=(1.75, 1.1))\n",
    "pdf = bpdf.PdfPages('figures/after_collapse_cases_US.pdf')\n",
    "pdf.savefig(fig)\n",
    "pdf.close()\n",
    "plt.show()\n",
    "\n",
    "#Fatalities raw\n",
    "fig,ax = data_collapse(deaths['US'],params_deaths.loc['US'].loc[top_countries],scale=False,endpoint=True,ms=5,colors=colors)\n",
    "ax.set_ylabel('Cumulative fatalities')\n",
    "ax.set_xlabel('Days since Jan 1, 2020')\n",
    "pdf = bpdf.PdfPages('figures/before_collapse_deaths_US.pdf')\n",
    "pdf.savefig(fig)\n",
    "pdf.close()\n",
    "plt.show()\n",
    "\n",
    "#Fatalities rescaled\n",
    "fig,ax = data_collapse(deaths['US'],params_deaths.loc['US'].loc[top_countries],endpoint=True,ms=5,colors=colors)\n",
    "#Get legend plotted correctly\n",
    "fig.set_figheight(3)\n",
    "fig.set_figwidth(5.5)\n",
    "ax.set_ylim((1e-3,1.5))\n",
    "ax.set_xlim((-3,3))\n",
    "ax.set_ylabel('Relative fatalities')\n",
    "ax.set_xlabel('Rescaled time')\n",
    "ax.set_position([0.22,0.22,0.45,0.7])\n",
    "ax.legend(loc='upper right',bbox_to_anchor=(1.75, 1.1))\n",
    "pdf = bpdf.PdfPages('figures/after_collapse_deaths_US.pdf')\n",
    "pdf.savefig(fig)\n",
    "pdf.close()\n",
    "plt.show()"
   ]
  },
  {
   "cell_type": "markdown",
   "metadata": {},
   "source": [
    "## All regions"
   ]
  },
  {
   "cell_type": "markdown",
   "metadata": {},
   "source": [
    "### Fatalities"
   ]
  },
  {
   "cell_type": "code",
   "execution_count": null,
   "metadata": {
    "ExecuteTime": {
     "start_time": "2020-04-17T22:19:07.163Z"
    }
   },
   "outputs": [],
   "source": [
    "data = deaths\n",
    "params_list = params_deaths\n",
    "metric = 'fatalities' #For labels\n",
    "select_countries = [('Italy','NaN'),('Germany','NaN'),('Sweden','NaN')]\n",
    "thresh = 500\n",
    "\n",
    "#Sort countries and set up colors\n",
    "current = data.iloc[-1]\n",
    "fit_countries = params_list.index.tolist()\n",
    "current = current.loc[fit_countries].sort_values(ascending=True)\n",
    "top_countries = current.index\n",
    "colors_select = sns.color_palette('pastel')\n",
    "colors = ['gray']*(current<=thresh).sum()+['black']*(current>thresh).sum()\n",
    "\n",
    "#Raw\n",
    "fig,ax=plt.subplots(figsize=(4,3))\n",
    "fig.subplots_adjust(left=0.16,bottom=0.16)\n",
    "f,ax = data_collapse(data,params_list.loc[top_countries],scale=False,ax=ax,colors=colors)\n",
    "f,ax = data_collapse(data,params_list.loc[select_countries],ax=ax,colors=colors_select,scale=False,endpoint=True,ms=5)\n",
    "ax.set_xlim((20,(deaths.index[-1]-tref)/timedelta(days=1)))\n",
    "ax.set_ylabel('Cumulative '+metric)\n",
    "ax.set_xlabel('Days since Jan 1, 2020')\n",
    "pdf = bpdf.PdfPages('figures/before_collapse_'+metric+'_all.pdf')\n",
    "pdf.savefig(fig)\n",
    "pdf.close()\n",
    "plt.show()\n",
    "\n",
    "#Rescaled\n",
    "fig,ax=plt.subplots(figsize=(4,3))\n",
    "f,ax = data_collapse(data,params_list.loc[top_countries],ax=ax,colors=colors,labels=False,alpha=1)\n",
    "f,ax = data_collapse(data,params_list.loc[select_countries],ax=ax,colors=colors_select,endpoint=True,ms=5)\n",
    "ax.plot([],[],'k',label='> '+str(thresh)+' '+metric)\n",
    "ax.plot([],[],'gray',label='< '+str(thresh)+' '+metric)\n",
    "fig.subplots_adjust(left=0.16,bottom=0.16)\n",
    "ax.set_ylim((1e-3,1.5))\n",
    "ax.set_xlim((-3,3))\n",
    "ax.set_ylabel('Relative '+metric)\n",
    "ax.set_xlabel('Rescaled time')\n",
    "ax.legend()\n",
    "pdf = bpdf.PdfPages('figures/after_collapse_'+metric+'_all.pdf')\n",
    "pdf.savefig(fig)\n",
    "pdf.close()\n",
    "plt.show()"
   ]
  },
  {
   "cell_type": "markdown",
   "metadata": {},
   "source": [
    "### Cases"
   ]
  },
  {
   "cell_type": "code",
   "execution_count": null,
   "metadata": {
    "ExecuteTime": {
     "start_time": "2020-04-17T22:19:07.170Z"
    }
   },
   "outputs": [],
   "source": [
    "data = cases\n",
    "params_list = params_cases\n",
    "metric = 'cases' #For labels\n",
    "select_countries = [('Italy','NaN'),('Germany','NaN'),('Sweden','NaN')]\n",
    "thresh = 5000\n",
    "\n",
    "#Sort countries and set up colors\n",
    "current = data.iloc[-1]\n",
    "fit_countries = params_list.index.tolist()\n",
    "current = current.loc[fit_countries].sort_values(ascending=True)\n",
    "top_countries = current.index\n",
    "colors_select = sns.color_palette('pastel')\n",
    "colors = ['gray']*(current<=thresh).sum()+['black']*(current>thresh).sum()\n",
    "\n",
    "#Raw\n",
    "fig,ax=plt.subplots(figsize=(4,3))\n",
    "fig.subplots_adjust(left=0.16,bottom=0.16)\n",
    "f,ax = data_collapse(data,params_list.loc[top_countries],scale=False,ax=ax,colors=colors)\n",
    "f,ax = data_collapse(data,params_list.loc[select_countries],ax=ax,colors=colors_select,scale=False,endpoint=True,ms=5)\n",
    "ax.set_xlim((20,(deaths.index[-1]-tref)/timedelta(days=1)))\n",
    "ax.set_ylabel('Cumulative '+metric)\n",
    "ax.set_xlabel('Days since Jan 1, 2020')\n",
    "pdf = bpdf.PdfPages('figures/before_collapse_'+metric+'_all.pdf')\n",
    "pdf.savefig(fig)\n",
    "pdf.close()\n",
    "plt.show()\n",
    "\n",
    "#Rescaled\n",
    "fig,ax=plt.subplots(figsize=(4,3))\n",
    "f,ax = data_collapse(data,params_list.loc[top_countries],ax=ax,colors=colors,labels=False,alpha=1)\n",
    "f,ax = data_collapse(data,params_list.loc[select_countries],ax=ax,colors=colors_select,endpoint=True,ms=5)\n",
    "ax.plot([],[],'k',label='> '+str(thresh)+' '+metric)\n",
    "ax.plot([],[],'gray',label='< '+str(thresh)+' '+metric)\n",
    "fig.subplots_adjust(left=0.16,bottom=0.16)\n",
    "ax.set_ylim((1e-3,1.5))\n",
    "ax.set_xlim((-3,3))\n",
    "ax.set_ylabel('Relative '+metric)\n",
    "ax.set_xlabel('Rescaled time')\n",
    "ax.legend()\n",
    "pdf = bpdf.PdfPages('figures/after_collapse_'+metric+'_all.pdf')\n",
    "pdf.savefig(fig)\n",
    "pdf.close()\n",
    "plt.show()"
   ]
  },
  {
   "cell_type": "markdown",
   "metadata": {},
   "source": [
    "# Simulations"
   ]
  },
  {
   "cell_type": "code",
   "execution_count": null,
   "metadata": {
    "ExecuteTime": {
     "start_time": "2020-04-17T22:19:07.177Z"
    },
    "scrolled": true
   },
   "outputs": [],
   "source": [
    "#Make graphs\n",
    "N=1000  #Number of nodes\n",
    "graphs = {'gamma_2.5':nx.expected_degree_graph(nx.utils.powerlaw_sequence(N, 2.5), selfloops=False),\n",
    "          'gamma_3':nx.expected_degree_graph(nx.utils.powerlaw_sequence(N, 3), selfloops=False),\n",
    "          'gamma_4':nx.expected_degree_graph(nx.utils.powerlaw_sequence(N, 4), selfloops=False),\n",
    "          'ER_2.5':nx.gnp_random_graph(N, 2.5/N),\n",
    "          'ER_5':nx.gnp_random_graph(N, 5/N),\n",
    "          'ER_10':nx.gnp_random_graph(N, 10/N)}\n",
    "\n",
    "#Set up waiting time parameters\n",
    "muG = 30 #Mean waiting time\n",
    "sigG_list = {'Narrow waiting time distribution':muG/4,\n",
    "            'Intermediate distribution':muG/2,\n",
    "            'Broad waiting time distribution':muG}\n",
    "\n",
    "tmax = 500\n",
    "time_axis = [(datetime.today()-timedelta(days=tmax-k)).isoformat()[:10] for k in range(tmax)]\n",
    "sim_data = pd.DataFrame(index=time_axis,columns=pd.MultiIndex.from_tuples([(item,name) for item in graphs.keys() for name in sigG_list.keys()]))\n",
    "\n",
    "for item in sim_data.keys():\n",
    "    print(item)\n",
    "    t,cum_cases = simulate_pandemic_edges(graphs[item[0]],muG,sigG_list[item[1]],N_0=5,p=1,tmax=tmax,sampling='Gamma')\n",
    "    sim_data[item] = cum_cases\n",
    "sim_data.to_csv('output/simulation_small.csv')"
   ]
  },
  {
   "cell_type": "code",
   "execution_count": null,
   "metadata": {
    "ExecuteTime": {
     "start_time": "2020-04-17T22:19:07.184Z"
    },
    "scrolled": true
   },
   "outputs": [],
   "source": [
    "sim = load_sim('output/simulation_small.csv')\n",
    "ms = 4\n",
    "daymin=-500\n",
    "daymax=100\n",
    "k=0\n",
    "start_cutoff=10\n",
    "for item in sim.keys():\n",
    "    #Set up axis limits\n",
    "    if item[0] == 'gamma_4':\n",
    "        tmax = 300\n",
    "    elif item[0] == 'ER_2.5':\n",
    "        tmax = 150\n",
    "    else:\n",
    "        tmax = 100\n",
    "    print('----------'+item[0]+'-----------')\n",
    "    \n",
    "    #Fit to simulation\n",
    "    data = sim[item]\n",
    "    params,params0,success = fit_erf(data,p0=50)\n",
    "\n",
    "    #Make predictions\n",
    "    t_pred = pd.to_datetime([datetime.today()+timedelta(days=k) for k in range(daymin,daymax)])\n",
    "\n",
    "    #Set up plot\n",
    "    fig,ax=plt.subplots(1,2,sharey=True,figsize=(6,2.5))\n",
    "    fig.subplots_adjust(left=0.15,bottom=0.22,right=0.98)\n",
    "\n",
    "    #Plot the data\n",
    "    plot_data = data.loc[data>=start_cutoff]\n",
    "    t0 = plot_data.index.values[0]\n",
    "    plot_data.index = (plot_data.index-t0)/timedelta(days=1)\n",
    "    t_plot = plot_data.index.values\n",
    "    ax[0].semilogy(t_plot,plot_data.values,'o',label='data',markersize=ms)\n",
    "    #Plot the predictions\n",
    "    out = plot_predictions(data,params,ax=ax[1],log_scale=True,conf_type=None,p0=50,t_pred = t_pred,start_cutoff=start_cutoff)\n",
    "\n",
    "    #Annotate\n",
    "    ax[0].set_xlabel('Elapsed time, linear scale')\n",
    "    ax[1].set_xlabel('Elapsed time, log scale')\n",
    "    ax[0].set_ylabel('Cumulative cases')\n",
    "    ax[0].set_ylim((10,2e3))\n",
    "    fig.suptitle(item[1],fontsize=14)\n",
    "    ax[1].legend()\n",
    "    ax[0].set_xlim((10,tmax))\n",
    "    ax[1].set_xlim((10,tmax))\n",
    "\n",
    "    pdf = bpdf.PdfPages('figures/example_'+item[0]+'_'.join(item[1].split(' '))+'.pdf')\n",
    "    pdf.savefig(fig)\n",
    "    pdf.close()\n",
    "    plt.show()\n",
    "    k+=1"
   ]
  },
  {
   "cell_type": "markdown",
   "metadata": {},
   "source": [
    "# Prediction is difficult until close to peak time"
   ]
  },
  {
   "cell_type": "markdown",
   "metadata": {},
   "source": [
    "## Main plot"
   ]
  },
  {
   "cell_type": "code",
   "execution_count": null,
   "metadata": {
    "ExecuteTime": {
     "start_time": "2020-04-17T22:19:07.192Z"
    }
   },
   "outputs": [],
   "source": [
    "country = 'Italy'\n",
    "region = 'NaN'\n",
    "\n",
    "#Set up thresholds and prediction times\n",
    "start_cutoff = 5\n",
    "p0 = 50 #Minimum number of deaths before fitting begins\n",
    "daymin = -100\n",
    "daymax = 100\n",
    "today = (datetime.today()-tref)/timedelta(days=1)\n",
    "t_pred = pd.to_datetime([datetime.today()+timedelta(days=k) for k in range(daymin,daymax)])\n",
    "\n",
    "#Fit the data\n",
    "data = deaths[country,region]\n",
    "params,parm0,s = fit_erf(data,p0=p0)\n",
    "th = params[0]\n",
    "\n",
    "#Set up plots\n",
    "fig,ax=plt.subplots(2,5,figsize=(10,5),sharex=False,sharey=True)\n",
    "fig.subplots_adjust(hspace=0.4)\n",
    "\n",
    "k=0\n",
    "for days_after in [-15,-13,-10,0,15]:\n",
    "    #Mask data after indicated date, and refit\n",
    "    mask = int(-today+th+days_after)\n",
    "    params,parm0,s = fit_erf(data.iloc[:mask],p0=p0)\n",
    "    \n",
    "    #Plot predictions and uncertainties with masked data on log-log and log-linear\n",
    "    f,a,params_good=plot_predictions(data.iloc[:mask],params,t_pred=t_pred,conf_type='sigma',th_true=th,ax=ax[0,k],\n",
    "                                     p0=p0,log_scale=True,start_cutoff=start_cutoff,c=0.95)\n",
    "    f,a,params_good=plot_predictions(data.iloc[:mask],params,t_pred=t_pred,conf_type='sigma',th_true=th,ax=ax[1,k],\n",
    "                                     p0=p0,log_scale=False,c=0.95)\n",
    "    #Print to show progress\n",
    "    print(params_good[-1,2])\n",
    "    \n",
    "    #Annotate\n",
    "    ax[0,k].set_ylim((p0,1e5))\n",
    "    ax[1,k].set_ylim((p0,1e5))\n",
    "    ax[0,k].set_xlim((1,100))\n",
    "    ax[1,k].set_xlim((-30,30))\n",
    "    ax[0,k].set_xlabel('Elapsed Time (days)')\n",
    "    ax[1,k].set_xlabel('Days after Peak')\n",
    "    ax[0,k].set_title((tref+timedelta(days=th+days_after)).isoformat()[:10])\n",
    "    k+=1\n",
    "ax[0,0].set_ylabel('Fatalities')\n",
    "ax[1,0].set_ylabel('Fatalities')\n",
    "pdf = bpdf.PdfPages('figures/'+country+'_forecasting.pdf')\n",
    "pdf.savefig(fig)\n",
    "pdf.close()\n",
    "plt.show()"
   ]
  },
  {
   "cell_type": "markdown",
   "metadata": {},
   "source": [
    "## Inset"
   ]
  },
  {
   "cell_type": "code",
   "execution_count": null,
   "metadata": {
    "ExecuteTime": {
     "start_time": "2020-04-17T22:19:07.199Z"
    }
   },
   "outputs": [],
   "source": [
    "fig,ax=plt.subplots(figsize=(3,3))\n",
    "fig.subplots_adjust(left=0.2,bottom=0.2)\n",
    "p0 = 50\n",
    "t0 = (data.loc[data>start_cutoff].index[0]-tref)/timedelta(days=1)\n",
    "mask = int(-today+th-10)\n",
    "params,parm0,s = fit_erf(data.iloc[:mask],p0=p0)\n",
    "f,a,params_good=plot_predictions(data.iloc[:mask],params,t_pred=t_pred,conf_type=None,th_true=th,ax=ax,\n",
    "                                 p0=p0,log_scale=True,start_cutoff=start_cutoff,c=0.95)\n",
    "mask = int(-today+th-13)\n",
    "params,parm0,s = fit_erf(data.iloc[:mask],p0=p0)\n",
    "params_sweep = sweep_sigma(params,data.iloc[:mask],p0)\n",
    "sigma,prob,scoremax = get_score_thresh(params_sweep,len(data.iloc[:mask].loc[data.iloc[:mask]>p0]),c)\n",
    "params_good = params_sweep[params_sweep[:,3]<=scoremax]\n",
    "t = np.linspace(1,200,1000)\n",
    "tau = (t-params_good[-1,0])/params_good[-1,2]\n",
    "ax.plot(t-t0,np.exp(params_good[-1,1])*norm.cdf(tau))\n",
    "ax.set_xlim((10,30))\n",
    "ax.set_ylim((1e2,2e4))\n",
    "ax.set_xlabel('')\n",
    "pdf = bpdf.PdfPages('figures/'+country+'_forecasting_in.pdf')\n",
    "pdf.savefig(fig)\n",
    "pdf.close()\n",
    "plt.show()"
   ]
  },
  {
   "cell_type": "markdown",
   "metadata": {},
   "source": [
    "# Parameters"
   ]
  },
  {
   "cell_type": "markdown",
   "metadata": {},
   "source": [
    "## Plot countries"
   ]
  },
  {
   "cell_type": "markdown",
   "metadata": {},
   "source": [
    "### Fatalities (sigma and th)"
   ]
  },
  {
   "cell_type": "code",
   "execution_count": null,
   "metadata": {
    "ExecuteTime": {
     "start_time": "2020-04-17T22:19:07.209Z"
    }
   },
   "outputs": [],
   "source": [
    "thresh = 500\n",
    "#Find countries above threshold (treat US separately, because of indexing issue)\n",
    "current_fatalities = deaths.iloc[-1].sort_index().drop('US')\n",
    "top_countries = current_fatalities.loc[current_fatalities>thresh].index.tolist()\n",
    "colors = sns.color_palette()+sns.color_palette('pastel')\n",
    "\n",
    "fig,ax=plt.subplots(figsize=(4,4))\n",
    "fig.subplots_adjust(left=0.16)\n",
    "k=0\n",
    "for item in top_countries:\n",
    "    #Adjust text location for countries that overlap\n",
    "    if item[0] == 'Brazil':\n",
    "        ax.annotate(item[0],(predictions_deaths['sigma'].loc[item],0.8*predictions_deaths['Nmax'].loc[item]))\n",
    "    elif item[0] == 'United Kingdom':\n",
    "        ax.annotate('UK',(predictions_deaths['sigma'].loc[item],1.1*predictions_deaths['Nmax'].loc[item]))\n",
    "    elif item[0] == 'China':\n",
    "        ax.annotate('Hubei',(predictions_deaths['sigma'].loc[item],predictions_deaths['Nmax'].loc[item]))\n",
    "    else:\n",
    "        ax.annotate(item[0],(predictions_deaths['sigma'].loc[item],predictions_deaths['Nmax'].loc[item]))\n",
    "    #Plot data and error bars\n",
    "    ax.semilogy([predictions_deaths['sigma_low'].loc[item],predictions_deaths['sigma_high'].loc[item]],[predictions_deaths['Nmax_low'].loc[item],predictions_deaths['Nmax_high'].loc[item]],color=colors[k])\n",
    "    ax.semilogy([predictions_deaths['sigma'].loc[item]],[predictions_deaths['Nmax'].loc[item]],'o',color=colors[k],label=item[0])\n",
    "    k+=1\n",
    "k+=1 #(US is yellow and hard to see otherwise)\n",
    "#Same for US\n",
    "item = ('US','NaN')\n",
    "ax.annotate('US',(predictions_deaths['sigma'].loc[item],predictions_deaths['Nmax'].loc[item]))\n",
    "ax.semilogy([predictions_deaths['sigma_low'].loc[item],predictions_deaths['sigma_high'].loc[item]],[predictions_deaths['Nmax_low'].loc[item],predictions_deaths['Nmax_high'].loc[item]],color=colors[k])\n",
    "ax.semilogy([predictions_deaths['sigma'].loc[item]],[predictions_deaths['Nmax'].loc[item]],'o',color=colors[k],label=item[0])\n",
    "\n",
    "#Annotate\n",
    "ax.set_xlabel(r'Timescale $\\sigma$ (days)')\n",
    "ax.set_ylabel(r'Total Fatalities $N_{\\rm max}$')\n",
    "pdf = bpdf.PdfPages('figures/top_world_scatter_sigma.pdf')\n",
    "pdf.savefig(fig)\n",
    "pdf.close()\n",
    "plt.show()"
   ]
  },
  {
   "cell_type": "code",
   "execution_count": null,
   "metadata": {
    "ExecuteTime": {
     "start_time": "2020-04-17T22:19:07.216Z"
    }
   },
   "outputs": [],
   "source": [
    "thresh = 500\n",
    "start_cutoff = 5 #Need this to estimate t0\n",
    "\n",
    "fig,ax=plt.subplots(figsize=(4,4))\n",
    "fig.subplots_adjust(left=0.16)\n",
    "current_fatalities = deaths.iloc[-1].sort_index().drop('US')\n",
    "top_countries = current_fatalities.loc[current_fatalities>thresh].index.tolist()\n",
    "colors = sns.color_palette()+sns.color_palette('pastel')\n",
    "\n",
    "k=0\n",
    "for item in top_countries:\n",
    "    #Estimate t0\n",
    "    t0 = deaths.loc[deaths[item]>start_cutoff].index[0]\n",
    "    #Get t-t0 and confidence bounds\n",
    "    tht0 = (predictions_deaths['th'].loc[item]-t0)/timedelta(days=1)\n",
    "    tht0_low = (predictions_deaths['th_low'].loc[item]-t0)/timedelta(days=1)\n",
    "    tht0_high = (predictions_deaths['th_high'].loc[item]-t0)/timedelta(days=1)\n",
    "    \n",
    "    #Shift annotations when necessary\n",
    "    if item[0] == 'United Kingdom':\n",
    "        ax.annotate('UK',(tht0,1.1*predictions_deaths['Nmax'].loc[item]))\n",
    "    elif item[0] == 'Germany':\n",
    "        ax.annotate(item[0],(tht0-5,predictions_deaths['Nmax'].loc[item]))\n",
    "    elif item[0] == 'China':\n",
    "        ax.annotate('Hubei',(tht0,0.9*predictions_deaths['Nmax'].loc[item]))\n",
    "    elif item[0] == 'Iran':\n",
    "        ax.annotate(item[0],(tht0,0.9*predictions_deaths['Nmax'].loc[item]))\n",
    "    elif item[0] == 'Brazil':\n",
    "        ax.annotate(item[0],(tht0,1.1*predictions_deaths['Nmax'].loc[item]))\n",
    "    else:\n",
    "        ax.annotate(item[0],(tht0,predictions_deaths['Nmax'].loc[item]))\n",
    "        \n",
    "    #Plot data and error bars\n",
    "    ax.semilogy([tht0_low,tht0_high],[predictions_deaths['Nmax_low'].loc[item],predictions_deaths['Nmax_high'].loc[item]],color=colors[k])\n",
    "    ax.semilogy([tht0],[predictions_deaths['Nmax'].loc[item]],'o',color=colors[k],label=item[0])\n",
    "    k+=1\n",
    "k+=1\n",
    "#Same for US\n",
    "item = ('US','NaN')\n",
    "t0 = deaths.loc[deaths[item]>start_cutoff].index[0]\n",
    "tht0 = (predictions_deaths['th'].loc[item]-t0)/timedelta(days=1)\n",
    "tht0_low = (predictions_deaths['th_low'].loc[item]-t0)/timedelta(days=1)\n",
    "tht0_high = (predictions_deaths['th_high'].loc[item]-t0)/timedelta(days=1)\n",
    "ax.annotate('US',(tht0,predictions_deaths['Nmax'].loc[item]))\n",
    "ax.semilogy([tht0_low,tht0_high],[predictions_deaths['Nmax_low'].loc[item],predictions_deaths['Nmax_high'].loc[item]],color=colors[k])\n",
    "ax.semilogy([tht0],[predictions_deaths['Nmax'].loc[item]],'o',color=colors[k],label=item[0])\n",
    "\n",
    "#Labels\n",
    "ax.set_xlabel(r'Time to peak death rate $t_h-t_0$ (days)')\n",
    "ax.set_ylabel(r'Total fatalities $N_{\\rm max}$')\n",
    "pdf = bpdf.PdfPages('figures/top_world_scatter_th.pdf')\n",
    "pdf.savefig(fig)\n",
    "pdf.close()\n",
    "plt.show()"
   ]
  },
  {
   "cell_type": "markdown",
   "metadata": {},
   "source": [
    "### Cases (just sigma for now)"
   ]
  },
  {
   "cell_type": "code",
   "execution_count": null,
   "metadata": {
    "ExecuteTime": {
     "start_time": "2020-04-17T22:19:07.228Z"
    }
   },
   "outputs": [],
   "source": [
    "fig,ax=plt.subplots(figsize=(4,4))\n",
    "fig.subplots_adjust(left=0.16)\n",
    "current_cases = cases.iloc[-1].sort_index().drop('US')\n",
    "top_countries = current_cases.loc[current_cases>5000].sort_values(ascending=False).index.tolist()[:20]\n",
    "k=0\n",
    "colors = sns.color_palette()+sns.color_palette('pastel')+sns.color_palette('dark')\n",
    "for item in top_countries:\n",
    "    if item[0] == 'United Kingdom':\n",
    "        ax.annotate('UK',(predictions_cases['sigma'].loc[item],predictions_cases['Nmax'].loc[item]))\n",
    "    elif item[0] == 'China':\n",
    "        ax.annotate('Hubei',(predictions_cases['sigma'].loc[item],predictions_cases['Nmax'].loc[item]))\n",
    "    elif item[0] in ['Spain','Germany']:\n",
    "        ax.annotate(item[0],(predictions_cases['sigma'].loc[item]-3,predictions_cases['Nmax'].loc[item]))\n",
    "    elif item[0] == 'Italy':\n",
    "        ax.annotate(item[0],(predictions_cases['sigma'].loc[item],1.2*predictions_cases['Nmax'].loc[item]))\n",
    "    elif item[0] == 'France':\n",
    "        ax.annotate(item[0],(predictions_cases['sigma'].loc[item],0.8*predictions_cases['Nmax'].loc[item]))\n",
    "    elif item[0] in ['Japan','Peru']:\n",
    "        ax.annotate(item[0],(predictions_cases['sigma_low'].loc[item],predictions_cases['Nmax_low'].loc[item]))\n",
    "    else:\n",
    "        ax.annotate(item[0],(predictions_cases['sigma'].loc[item],predictions_cases['Nmax'].loc[item]))\n",
    "    ax.semilogy([predictions_cases['sigma_low'].loc[item],predictions_cases['sigma_high'].loc[item]],[predictions_cases['Nmax_low'].loc[item],predictions_cases['Nmax_high'].loc[item]],color=colors[k])\n",
    "    ax.semilogy([predictions_cases['sigma'].loc[item]],[predictions_cases['Nmax'].loc[item]],'o',color=colors[k],label=item[0])\n",
    "    k+=1\n",
    "item = ('US','NaN')\n",
    "ax.annotate('US',(predictions_cases['sigma'].loc[item],predictions_cases['Nmax'].loc[item]))\n",
    "ax.semilogy([predictions_cases['sigma_low'].loc[item],predictions_cases['sigma_high'].loc[item]],[predictions_cases['Nmax_low'].loc[item],predictions_cases['Nmax_high'].loc[item]],color=colors[k])\n",
    "ax.semilogy([predictions_cases['sigma'].loc[item]],[predictions_cases['Nmax'].loc[item]],'o',color=colors[k],label=item[0])\n",
    "ax.set_ylim((5000,1e6))\n",
    "ax.set_xlim((5,25))\n",
    "ax.set_xlabel(r'Timescale $\\sigma$ (days)')\n",
    "ax.set_ylabel(r'Total cases $N_{\\rm max}$')\n",
    "pdf = bpdf.PdfPages('figures/top_world_scatter_cases.pdf')\n",
    "pdf.savefig(fig)\n",
    "pdf.close()\n",
    "plt.show()"
   ]
  },
  {
   "cell_type": "markdown",
   "metadata": {},
   "source": [
    "## Plot states"
   ]
  },
  {
   "cell_type": "markdown",
   "metadata": {},
   "source": [
    "### Fatalities (sigma and th)"
   ]
  },
  {
   "cell_type": "code",
   "execution_count": null,
   "metadata": {
    "ExecuteTime": {
     "start_time": "2020-04-17T22:19:07.238Z"
    },
    "code_folding": []
   },
   "outputs": [],
   "source": [
    "#Load state abbreviations for annotating plots\n",
    "abbreviations = pd.read_csv('input/state_list.csv',index_col=0).squeeze().to_dict()\n",
    "\n",
    "fig,ax=plt.subplots(figsize=(4,4))\n",
    "fig.subplots_adjust(left=0.16)\n",
    "current_fatalities = deaths.iloc[-1].loc['US'].sort_index().drop('NaN')\n",
    "top_countries = current_fatalities.sort_index().loc[current_fatalities>500].index.tolist()\n",
    "k=0\n",
    "colors = sns.color_palette()+sns.color_palette('pastel')\n",
    "for item in top_countries:\n",
    "    if item == 'Illinois':\n",
    "        ax.annotate(abbreviations[item],(predictions_deaths['sigma'].loc['US',item],1.1*predictions_deaths['Nmax'].loc['US',item]))\n",
    "    else:\n",
    "        ax.annotate(abbreviations[item],(predictions_deaths['sigma'].loc['US',item],predictions_deaths['Nmax'].loc['US',item]))\n",
    "    ax.semilogy([predictions_deaths['sigma_low'].loc['US',item],predictions_deaths['sigma_high'].loc['US',item]],[predictions_deaths['Nmax_low'].loc['US',item],predictions_deaths['Nmax_high'].loc['US',item]],color=colors[k])\n",
    "    ax.semilogy([predictions_deaths['sigma'].loc['US',item]],[predictions_deaths['Nmax'].loc['US',item]],'o',color=colors[k],label=item[0])\n",
    "    k+=1\n",
    "ax.set_xlabel(r'Timescale $\\sigma$ (days)')\n",
    "ax.set_ylabel(r'Total Fatalities $N_{\\rm max}$')\n",
    "ax.set_ylim((500,20000))\n",
    "pdf = bpdf.PdfPages('figures/top_US_scatter.pdf')\n",
    "pdf.savefig(fig)\n",
    "pdf.close()\n",
    "plt.show()"
   ]
  },
  {
   "cell_type": "code",
   "execution_count": null,
   "metadata": {
    "ExecuteTime": {
     "start_time": "2020-04-17T22:19:07.245Z"
    }
   },
   "outputs": [],
   "source": [
    "#Load state abbreviations for annotating plots\n",
    "abbreviations = pd.read_csv('input/state_list.csv',index_col=0).squeeze().to_dict()\n",
    "\n",
    "fig,ax=plt.subplots(figsize=(4,4))\n",
    "fig.subplots_adjust(left=0.16)\n",
    "current_fatalities = deaths.iloc[-1].loc['US'].sort_index().drop('NaN')\n",
    "top_countries = current_fatalities.sort_index().loc[current_fatalities>500].index.tolist()\n",
    "k=0\n",
    "colors = sns.color_palette()+sns.color_palette('pastel')\n",
    "for item in top_countries:\n",
    "    t0 = deaths.loc[deaths['US',item]>start_cutoff].index[0]\n",
    "    tht0 = (predictions_deaths['th'].loc['US',item]-t0)/timedelta(days=1)\n",
    "    tht0_low = (predictions_deaths['th_low'].loc['US',item]-t0)/timedelta(days=1)\n",
    "    tht0_high = (predictions_deaths['th_high'].loc['US',item]-t0)/timedelta(days=1)\n",
    "    if item == 'Florida':\n",
    "        ax.annotate(abbreviations[item],(tht0-3,predictions_deaths['Nmax'].loc['US',item]))\n",
    "    else:\n",
    "        ax.annotate(abbreviations[item],(tht0,predictions_deaths['Nmax'].loc['US',item]))\n",
    "    ax.semilogy([tht0_low,tht0_high],[predictions_deaths['Nmax_low'].loc['US',item],predictions_deaths['Nmax_high'].loc['US',item]],color=colors[k])\n",
    "    ax.semilogy([tht0],[predictions_deaths['Nmax'].loc['US',item]],'o',color=colors[k],label=item)\n",
    "    k+=1\n",
    "ax.set_xlabel(r'Time to peak death rate $t_h-t_0$ (days)')\n",
    "ax.set_ylim((500,20000))\n",
    "ax.set_xlim((15,50))\n",
    "ax.set_ylabel(r'Total fatalities $N_{\\rm max}$')\n",
    "pdf = bpdf.PdfPages('figures/top_US_scatter_th.pdf')\n",
    "pdf.savefig(fig)\n",
    "pdf.close()\n",
    "plt.show()"
   ]
  },
  {
   "cell_type": "markdown",
   "metadata": {},
   "source": [
    "### Cases (just sigma for now)"
   ]
  },
  {
   "cell_type": "code",
   "execution_count": null,
   "metadata": {
    "ExecuteTime": {
     "start_time": "2020-04-17T22:19:07.255Z"
    }
   },
   "outputs": [],
   "source": [
    "#Load state abbreviations for annotating plots\n",
    "abbreviations = pd.read_csv('input/state_list.csv',index_col=0).squeeze().to_dict()\n",
    "\n",
    "fig,ax=plt.subplots(figsize=(4,4))\n",
    "fig.subplots_adjust(left=0.16)\n",
    "current_cases = cases.iloc[-1].loc['US'].sort_index().drop('NaN')\n",
    "top_countries = current_cases.sort_index().loc[current_cases>5000].index.tolist()\n",
    "k=0\n",
    "colors = (sns.color_palette()+sns.color_palette('pastel'))*10\n",
    "for item in top_countries:\n",
    "    ax.annotate(abbreviations[item],(predictions_cases['sigma'].loc['US',item],predictions_cases['Nmax'].loc['US',item]))\n",
    "    ax.semilogy([predictions_cases['sigma_low'].loc['US',item],predictions_cases['sigma_high'].loc['US',item]],[predictions_cases['Nmax_low'].loc['US',item],predictions_cases['Nmax_high'].loc['US',item]],color=colors[k])\n",
    "    ax.semilogy([predictions_cases['sigma'].loc['US',item]],[predictions_cases['Nmax'].loc['US',item]],'o',color=colors[k],label=item[0])\n",
    "    k+=1\n",
    "ax.set_xlabel(r'Timescale $\\sigma$ (days)')\n",
    "ax.set_ylabel(r'Total cases $N_{\\rm max}$')\n",
    "#ax.set_ylim((500,20000))\n",
    "pdf = bpdf.PdfPages('figures/top_US_scatter_cases.pdf')\n",
    "pdf.savefig(fig)\n",
    "pdf.close()\n",
    "plt.show()"
   ]
  },
  {
   "cell_type": "markdown",
   "metadata": {},
   "source": [
    "## Color by current total number"
   ]
  },
  {
   "cell_type": "markdown",
   "metadata": {},
   "source": [
    "### Fatalities (sigma and th)"
   ]
  },
  {
   "cell_type": "code",
   "execution_count": null,
   "metadata": {
    "ExecuteTime": {
     "start_time": "2020-04-17T22:19:07.277Z"
    }
   },
   "outputs": [],
   "source": [
    "thresh = 500\n",
    "\n",
    "#Sort countries and assign colors\n",
    "current_fatalities = deaths.iloc[-1].sort_index()\n",
    "fit_countries = predictions_deaths.index #Use all countries that have fits\n",
    "current_fatalities = current_fatalities.loc[fit_countries].sort_values(ascending=True)\n",
    "top_countries = current_fatalities.index\n",
    "colors = ['gray']*(current_fatalities<=thresh).sum()+['black']*(current_fatalities>thresh).sum()\n",
    "\n",
    "fig,ax=plt.subplots(figsize=(4,4))\n",
    "fig.subplots_adjust(left=0.16)\n",
    "k=0\n",
    "for item in top_countries:\n",
    "    ax.semilogy([predictions_deaths['sigma_low'].loc[item],predictions_deaths['sigma_high'].loc[item]],[predictions_deaths['Nmax_low'].loc[item],predictions_deaths['Nmax_high'].loc[item]],color=colors[k])\n",
    "    ax.semilogy([predictions_deaths['sigma'].loc[item]],[predictions_deaths['Nmax'].loc[item]],'o',color=colors[k])\n",
    "    k+=1\n",
    "ax.plot([],[],'o',color='k',label='> '+str(thresh)+' Fatalities')\n",
    "ax.plot([],[],'o',color='gray',label='< '+str(thresh)+' Fatalities')\n",
    "ax.legend()\n",
    "ax.set_xlim((0,25))\n",
    "ax.set_ylim((50,1e5))\n",
    "ax.set_xlabel(r'Timescale $\\sigma$ (days)')\n",
    "ax.set_ylabel(r'Total fatalities $N_{\\rm max}$')\n",
    "pdf = bpdf.PdfPages('figures/all_scatter.pdf')\n",
    "pdf.savefig(fig)\n",
    "pdf.close()\n",
    "plt.show()"
   ]
  },
  {
   "cell_type": "code",
   "execution_count": null,
   "metadata": {
    "ExecuteTime": {
     "start_time": "2020-04-17T22:19:07.305Z"
    }
   },
   "outputs": [],
   "source": [
    "thresh = 500\n",
    "current_fatalities = deaths.iloc[-1].sort_index()\n",
    "fit_countries = predictions_deaths.index #Use all countries that have fits\n",
    "current_fatalities = current_fatalities.loc[fit_countries].sort_values(ascending=True)\n",
    "top_countries = current_fatalities.index\n",
    "colors = ['gray']*(current_fatalities<=500).sum()+['black']*(current_fatalities>500).sum()\n",
    "\n",
    "fig,ax=plt.subplots(figsize=(4,4))\n",
    "fig.subplots_adjust(left=0.16)\n",
    "k=0\n",
    "for item in top_countries:\n",
    "    t0 = deaths.loc[deaths[item]>start_cutoff].index[0]\n",
    "    tht0 = (predictions_deaths['th'].loc[item]-t0)/timedelta(days=1)\n",
    "    tht0_low = (predictions_deaths['th_low'].loc[item]-t0)/timedelta(days=1)\n",
    "    tht0_high = (predictions_deaths['th_high'].loc[item]-t0)/timedelta(days=1)\n",
    "\n",
    "    ax.semilogy([tht0_low,tht0_high],[predictions_deaths['Nmax_low'].loc[item],predictions_deaths['Nmax_high'].loc[item]],color=colors[k])\n",
    "    ax.semilogy([tht0],[predictions_deaths['Nmax'].loc[item]],'o',color=colors[k])\n",
    "    k+=1\n",
    "ax.plot([],[],'o',color='k',label='> '+str(thresh)+' Fatalities')\n",
    "ax.plot([],[],'o',color='gray',label='< '+str(thresh)+' Fatalities')\n",
    "ax.legend()\n",
    "ax.set_xlim((5,50))\n",
    "ax.set_ylim((50,1e5))\n",
    "ax.set_xlabel(r'Time to peak death rate $t_h-t_0$ (days)')\n",
    "ax.set_ylabel(r'Total fatalities $N_{\\rm max}$')\n",
    "pdf = bpdf.PdfPages('figures/all_scatter_th.pdf')\n",
    "pdf.savefig(fig)\n",
    "pdf.close()\n",
    "#ax.legend()\n",
    "plt.show()"
   ]
  },
  {
   "cell_type": "markdown",
   "metadata": {},
   "source": [
    "### Cases"
   ]
  },
  {
   "cell_type": "code",
   "execution_count": null,
   "metadata": {
    "ExecuteTime": {
     "start_time": "2020-04-17T22:19:07.313Z"
    }
   },
   "outputs": [],
   "source": [
    "thresh = 5000\n",
    "current_cases = cases.iloc[-1].sort_index()\n",
    "fit_countries = predictions_cases.index\n",
    "current_cases = current_cases.loc[fit_countries].sort_values(ascending=True)\n",
    "top_countries = current_cases.index\n",
    "colors = ['gray']*(current_cases<=thresh).sum()+['black']*(current_cases>thresh).sum()\n",
    "\n",
    "fig,ax=plt.subplots(figsize=(4,4))\n",
    "fig.subplots_adjust(left=0.16)\n",
    "k=0\n",
    "for item in top_countries:\n",
    "    ax.semilogy([predictions_cases['sigma_low'].loc[item],predictions_cases['sigma_high'].loc[item]],[predictions_cases['Nmax_low'].loc[item],predictions_cases['Nmax_high'].loc[item]],color=colors[k])\n",
    "    ax.semilogy([predictions_cases['sigma'].loc[item]],[predictions_cases['Nmax'].loc[item]],'o',color=colors[k])\n",
    "    k+=1\n",
    "\n",
    "ax.set_xlabel(r'Timescale $\\sigma$ (days)')\n",
    "ax.set_ylabel(r'Total cases $N_{\\rm max}$')\n",
    "ax.set_xlim((1,50))\n",
    "ax.set_ylim((500,1e6))\n",
    "ax.plot([],[],'o',color='k',label='> '+str(thresh)+' cases')\n",
    "ax.plot([],[],'o',color='gray',label='< '+str(thresh)+' cases')\n",
    "ax.legend()\n",
    "pdf = bpdf.PdfPages('figures/top_world_scatter_cases_all.pdf')\n",
    "pdf.savefig(fig)\n",
    "pdf.close()\n",
    "plt.show()"
   ]
  },
  {
   "cell_type": "markdown",
   "metadata": {},
   "source": [
    "# Social policy"
   ]
  },
  {
   "cell_type": "markdown",
   "metadata": {},
   "source": [
    "First, we have to load the OxCGRT data and format it."
   ]
  },
  {
   "cell_type": "code",
   "execution_count": null,
   "metadata": {
    "ExecuteTime": {
     "start_time": "2020-04-17T22:19:07.320Z"
    },
    "collapsed": true
   },
   "outputs": [],
   "source": [
    "start_cutoff=5 #Need this to compute t0\n",
    "#Need these to convert OxCGRT dates:\n",
    "month_numbers = {'jan':'01',\n",
    "                 'feb':'02',\n",
    "                 'mar':'03',\n",
    "                 'apr':'04',\n",
    "                 'may':'05'}\n",
    "\n",
    "#Read the stringency index and format the dates\n",
    "stringency = pd.read_excel('input/OxCGRT_timeseries_all.xlsx',sheet_name='stringencyindex',index_col=0).T.drop('CountryCode')\n",
    "new_index = []\n",
    "for k in range(len(stringency.index)):\n",
    "    item = stringency.index[k]\n",
    "    new_index.append('-'.join([item[-4:],month_numbers[item[2:5]],item[:2]]))\n",
    "stringency.index = pd.to_datetime(new_index)\n",
    "\n",
    "#Can make some aggregate scores based on max, or median since some date\n",
    "strin_score_med = stringency.loc[datetime(2020,3,1):].median()\n",
    "strin_score_max = stringency.max()\n",
    "\n",
    "#Define the time from beginning (deaths > start_cutoff) to stringency threshold (s_thresh)\n",
    "s_thresh=75\n",
    "sd_time = pd.Series(np.ones(len(stringency.T))*np.nan,index=stringency.keys())\n",
    "for item in sd_time.index:\n",
    "    #Find countries have names that agree in both JH and OxCGRT indices\n",
    "    if (item,'NaN') in deaths.T.index.tolist():\n",
    "        if (deaths[(item,'NaN')]>=start_cutoff).sum()>0:\n",
    "            #Compute t0 for the country\n",
    "            t0 = deaths[(item,'NaN')].loc[deaths[(item,'NaN')]>=start_cutoff].index[0]\n",
    "            if (stringency[item]>s_thresh).sum()>0:\n",
    "                #If country reaches the stringency threshold, calculate the time elapsed since t0\n",
    "                sd_time.loc[item] = (stringency[item].loc[stringency[item]>s_thresh].index[0]-t0)/timedelta(days=1)\n",
    "            else:\n",
    "                #If the country never reaches the threshold, put a large number\n",
    "                sd_time.loc[item] = 1000\n",
    "    #China really means the Hubei province for our purposes\n",
    "    elif item == 'China':\n",
    "        t0 = deaths[(item,'Hubei')].loc[deaths[(item,'Hubei')]>=start_cutoff].index[0]\n",
    "        sd_time.loc[item] = (stringency[item].loc[stringency[item]>s_thresh].index[0]-t0)/timedelta(days=1)\n",
    "    #Need to treat the US separately because the whole country and the states are both\n",
    "    #in our table\n",
    "    elif item == 'United States':\n",
    "        t0 = deaths[('US','NaN')].loc[deaths[('US','NaN')]>=start_cutoff].index[0]\n",
    "        sd_time.loc[item] = (stringency[item].loc[stringency[item]>s_thresh].index[0]-t0)/timedelta(days=1)\n",
    "\n",
    "#Can also calculate the time until specific events like work closures happen    \n",
    "work_close = pd.read_excel('input/OxCGRT_timeseries_all.xlsx',sheet_name='s2_workplaceclosing',index_col=0).T.drop('CountryCode')\n",
    "new_index = []\n",
    "for k in range(len(work_close.index)):\n",
    "    item = work_close.index[k]\n",
    "    new_index.append('-'.join([item[-4:],month_numbers[item[2:5]],item[:2]]))\n",
    "work_close.index = pd.to_datetime(new_index)\n",
    "work_time = pd.Series(np.ones(len(work_close.T))*np.nan,index=work_close.keys())\n",
    "for item in work_time.index:\n",
    "    if (item,'NaN') in deaths.T.index.tolist():\n",
    "        if (deaths[(item,'NaN')]>=start_cutoff).sum()>0:\n",
    "            if work_close[item].sum()>0:\n",
    "                work_time.loc[item] = (work_close[item].loc[work_close[item]>0].index[0]\n",
    "                                     -deaths[(item,'NaN')].loc[deaths[(item,'NaN')]>=start_cutoff].index[0])/timedelta(days=1)\n",
    "            else:\n",
    "                work_time.loc[item] = (work_close.index[-1]-deaths[(item,'NaN')].loc[deaths[(item,'NaN')]>=start_cutoff].index[0])/timedelta(days=1)"
   ]
  },
  {
   "cell_type": "markdown",
   "metadata": {},
   "source": [
    "Let's see how much variability there is in the stringency patterns:"
   ]
  },
  {
   "cell_type": "code",
   "execution_count": null,
   "metadata": {
    "ExecuteTime": {
     "start_time": "2020-04-17T22:19:07.326Z"
    }
   },
   "outputs": [],
   "source": [
    "stringency.max().plot.hist()\n",
    "plt.gca().set_xlabel('Max stringency')\n",
    "plt.show()\n",
    "\n",
    "stringency.loc[datetime(2020,3,1):].median().plot.hist()\n",
    "plt.gca().set_xlabel('Median stringency since beginning of March')\n",
    "plt.show()"
   ]
  },
  {
   "cell_type": "markdown",
   "metadata": {},
   "source": [
    "## Absolute fatalities"
   ]
  },
  {
   "cell_type": "code",
   "execution_count": null,
   "metadata": {
    "ExecuteTime": {
     "start_time": "2020-04-17T22:19:07.335Z"
    }
   },
   "outputs": [],
   "source": [
    "#Choose score and load the data\n",
    "strin_score = sd_time #The stringency score to use\n",
    "smin = 0 #Level to set as minimum on color bar\n",
    "smax = 40 #Level to set as max on color bar\n",
    "colors = sns.color_palette('coolwarm_r',101)\n",
    "thresh = 500 #Threshold for including countries\n",
    "current_fatalities = deaths.iloc[-1].sort_index().drop('US')\n",
    "top_countries = current_fatalities.loc[current_fatalities>thresh].index.tolist()\n",
    "\n",
    "#Set up the colors\n",
    "strin_score = strin_score-smin\n",
    "strin_score.loc[strin_score<0] = 0\n",
    "strin_score = 100*strin_score/(smax-smin)\n",
    "strin_score[strin_score>100] = 100\n",
    "\n",
    "ms = 6\n",
    "fig,ax=plt.subplots(figsize=(4,4))\n",
    "fig.subplots_adjust(left=0.16)\n",
    "for item in top_countries:\n",
    "    if item[0] == 'Brazil':\n",
    "        ax.annotate(item[0],(predictions_deaths['sigma'].loc[item],0.8*predictions_deaths['Nmax'].loc[item]))\n",
    "    elif item[0] == 'China':\n",
    "        ax.annotate('Hubei',(predictions_deaths['sigma'].loc[item],predictions_deaths['Nmax'].loc[item]))\n",
    "    elif item[0] == 'United Kingdom':\n",
    "        ax.annotate('UK',(predictions_deaths['sigma'].loc[item],predictions_deaths['Nmax'].loc[item]))\n",
    "    else:\n",
    "        ax.annotate(item[0],(predictions_deaths['sigma'].loc[item],predictions_deaths['Nmax'].loc[item]))\n",
    "    ax.semilogy([predictions_deaths['sigma_low'].loc[item],predictions_deaths['sigma_high'].loc[item]],[predictions_deaths['Nmax_low'].loc[item],predictions_deaths['Nmax_high'].loc[item]],color=colors[int(strin_score.loc[item[0]])])\n",
    "    ax.semilogy([predictions_deaths['sigma'].loc[item]],[predictions_deaths['Nmax'].loc[item]],'o',color=colors[int(strin_score.loc[item[0]])],label=item[0],markersize=ms)\n",
    "item = ('US','NaN')\n",
    "ax.annotate('US',(predictions_deaths['sigma'].loc[item],predictions_deaths['Nmax'].loc[item]))\n",
    "ax.semilogy([predictions_deaths['sigma_low'].loc[item],predictions_deaths['sigma_high'].loc[item]],[predictions_deaths['Nmax_low'].loc[item],predictions_deaths['Nmax_high'].loc[item]],color=colors[int(strin_score.loc['United States'])])\n",
    "ax.semilogy([predictions_deaths['sigma'].loc[item]],[predictions_deaths['Nmax'].loc[item]],'o',color=colors[int(strin_score.loc['United States'])],label=item[0],markersize=ms)\n",
    "ax.set_xlabel(r'Timescale $\\sigma$ (days)')\n",
    "ax.set_ylabel(r'Total fatalities $N_{\\rm max}$')\n",
    "pdf = bpdf.PdfPages('figures/top_world_scatter_str_time.pdf')\n",
    "pdf.savefig(fig)\n",
    "pdf.close()\n",
    "plt.show()\n",
    "\n",
    "#Make a color bar\n",
    "fig,ax=plt.subplots()\n",
    "klist = np.arange(101)\n",
    "for k in klist:\n",
    "    ax.plot([k],[0],'s',color=colors[k])\n",
    "pdf = bpdf.PdfPages('figures/colorbar.pdf')\n",
    "pdf.savefig(fig)\n",
    "pdf.close()\n",
    "plt.show()"
   ]
  },
  {
   "cell_type": "code",
   "execution_count": null,
   "metadata": {
    "ExecuteTime": {
     "start_time": "2020-04-17T22:19:07.346Z"
    }
   },
   "outputs": [],
   "source": [
    "#Choose score and load the data\n",
    "strin_score = strin_score_max #The stringency score to use\n",
    "smin = 50 #Level to set as minimum on color bar\n",
    "smax = 100 #Level to set as max on color bar\n",
    "colors = sns.color_palette('coolwarm',101) #colors\n",
    "thresh = 500 #Threshold for including countries\n",
    "current_fatalities = deaths.iloc[-1].sort_index().drop('US')\n",
    "top_countries = current_fatalities.loc[current_fatalities>thresh].index.tolist()\n",
    "\n",
    "#Set up the colors\n",
    "strin_score = strin_score-smin\n",
    "strin_score.loc[strin_score<0] = 0\n",
    "strin_score = 100*strin_score/(smax-smin)\n",
    "strin_score[strin_score>100] = 100\n",
    "\n",
    "ms = 6\n",
    "fig,ax=plt.subplots(figsize=(4,4))\n",
    "fig.subplots_adjust(left=0.16)\n",
    "for item in top_countries:\n",
    "    if item[0] == 'Brazil':\n",
    "        ax.annotate(item[0],(predictions_deaths['sigma'].loc[item],0.8*predictions_deaths['Nmax'].loc[item]))\n",
    "    elif item[0] == 'United Kingdom':\n",
    "        ax.annotate('UK',(predictions_deaths['sigma'].loc[item],predictions_deaths['Nmax'].loc[item]))\n",
    "    elif item[0] == 'China':\n",
    "        ax.annotate('Hubei',(predictions_deaths['sigma'].loc[item],predictions_deaths['Nmax'].loc[item]))\n",
    "    else:\n",
    "        ax.annotate(item[0],(predictions_deaths['sigma'].loc[item],predictions_deaths['Nmax'].loc[item]))\n",
    "    ax.semilogy([predictions_deaths['sigma_low'].loc[item],predictions_deaths['sigma_high'].loc[item]],[predictions_deaths['Nmax_low'].loc[item],predictions_deaths['Nmax_high'].loc[item]],color=colors[int(strin_score.loc[item[0]])])\n",
    "    ax.semilogy([predictions_deaths['sigma'].loc[item]],[predictions_deaths['Nmax'].loc[item]],'o',color=colors[int(strin_score.loc[item[0]])],label=item[0],markersize=ms)\n",
    "item = ('US','NaN')\n",
    "ax.annotate('US',(predictions_deaths['sigma'].loc[item],predictions_deaths['Nmax'].loc[item]))\n",
    "ax.semilogy([predictions_deaths['sigma_low'].loc[item],predictions_deaths['sigma_high'].loc[item]],[predictions_deaths['Nmax_low'].loc[item],predictions_deaths['Nmax_high'].loc[item]],color=colors[int(strin_score.loc['United States'])])\n",
    "ax.semilogy([predictions_deaths['sigma'].loc[item]],[predictions_deaths['Nmax'].loc[item]],'o',color=colors[int(strin_score.loc['United States'])],label=item[0],markersize=ms)\n",
    "ax.set_xlabel(r'Timescale $\\sigma$ (days)')\n",
    "ax.set_ylabel(r'Total fatalities $N_{\\rm max}$')\n",
    "pdf = bpdf.PdfPages('figures/top_world_scatter_str.pdf')\n",
    "pdf.savefig(fig)\n",
    "pdf.close()\n",
    "plt.show()"
   ]
  },
  {
   "cell_type": "markdown",
   "metadata": {},
   "source": [
    "## Per-capita fatalities"
   ]
  },
  {
   "cell_type": "code",
   "execution_count": null,
   "metadata": {
    "ExecuteTime": {
     "start_time": "2020-04-17T22:19:07.363Z"
    }
   },
   "outputs": [],
   "source": [
    "#Choose score and load the data\n",
    "strin_score = sd_time #The stringency score to use\n",
    "smin = 0 #Level to set as minimum on color bar\n",
    "smax = 40 #Level to set as max on color bar\n",
    "colors = sns.color_palette('coolwarm_r',101) #colors\n",
    "thresh = 500 #Threshold for including countries\n",
    "current_fatalities = deaths.iloc[-1].sort_index().drop('US')\n",
    "top_countries = current_fatalities.loc[current_fatalities>thresh].index.tolist()\n",
    "\n",
    "#Set up the colors\n",
    "strin_score = strin_score-smin\n",
    "strin_score.loc[strin_score<0] = 0\n",
    "strin_score = 100*strin_score/(smax-smin)\n",
    "strin_score[strin_score>100] = 100\n",
    "\n",
    "#Make per-capita data\n",
    "populations = pd.to_numeric(pd.read_csv('input/populations.csv').fillna(value='NaN').set_index(['Country/Region','Province/State']).squeeze())\n",
    "predictions_pc = predictions_deaths.copy().loc[top_countries]\n",
    "for item in ['Nmax','Nmax_low','Nmax_high']:\n",
    "    #Measure by deaths per thousand\n",
    "    predictions_pc[item] = 1000*predictions_pc[item]/populations.loc[predictions_pc.index.tolist()]\n",
    "\n",
    "ms=6\n",
    "fig,ax=plt.subplots(figsize=(4,4))\n",
    "fig.subplots_adjust(left=0.16)\n",
    "for item in top_countries:\n",
    "    if item[0] == 'Brazil':\n",
    "        ax.annotate(item[0],(predictions_pc['sigma'].loc[item],0.8*predictions_pc['Nmax'].loc[item]))\n",
    "    elif item[0] == 'China':\n",
    "        ax.annotate('Hubei',(predictions_pc['sigma'].loc[item],predictions_pc['Nmax'].loc[item]))\n",
    "    elif item[0] == 'Portugal':\n",
    "        ax.annotate(item[0],(predictions_pc['sigma'].loc[item],1.4*predictions_pc['Nmax'].loc[item]))\n",
    "    elif item[0] == 'Germany':\n",
    "        ax.annotate(item[0],(0.5+predictions_pc['sigma'].loc[item],predictions_pc['Nmax'].loc[item]))\n",
    "    elif item[0] == 'United Kingdom':\n",
    "        ax.annotate('UK',(predictions_pc['sigma'].loc[item],predictions_pc['Nmax'].loc[item]))\n",
    "    else:\n",
    "        ax.annotate(item[0],(predictions_pc['sigma'].loc[item],predictions_pc['Nmax'].loc[item]))\n",
    "    ax.plot([predictions_pc['sigma_low'].loc[item],predictions_pc['sigma_high'].loc[item]],[predictions_pc['Nmax_low'].loc[item],predictions_pc['Nmax_high'].loc[item]],color=colors[int(strin_score.loc[item[0]])])\n",
    "    ax.plot([predictions_pc['sigma'].loc[item]],[predictions_pc['Nmax'].loc[item]],'o',color=colors[int(strin_score.loc[item[0]])],label=item[0],markersize=ms)\n",
    "#Same for US\n",
    "item = ('US','NaN')\n",
    "predictions_pc = predictions_deaths.copy().loc[item]\n",
    "for col in ['Nmax','Nmax_low','Nmax_high']:\n",
    "    predictions_pc[col] = 1000*predictions_pc[col]/populations.loc[item]\n",
    "ax.annotate('US',(predictions_pc['sigma'],predictions_pc['Nmax']))\n",
    "ax.plot([predictions_pc['sigma_low'],predictions_pc['sigma_high']],[predictions_pc['Nmax_low'],predictions_pc['Nmax_high']],color=colors[int(strin_score.loc['United States'])])\n",
    "ax.plot([predictions_pc['sigma']],[predictions_pc['Nmax']],'o',color=colors[int(strin_score.loc['United States'])],label=item[0],markersize=ms)\n",
    "ax.set_xlabel(r'Timescale $\\sigma$ (days)')\n",
    "ax.set_ylabel(r'Total fatalities $N_{\\rm max}$ per capita (deaths/1000)')\n",
    "ax.set_ylim((0,None))\n",
    "pdf = bpdf.PdfPages('figures/top_world_scatter_str_time_pc.pdf')\n",
    "pdf.savefig(fig)\n",
    "pdf.close()\n",
    "plt.show()"
   ]
  },
  {
   "cell_type": "code",
   "execution_count": null,
   "metadata": {
    "ExecuteTime": {
     "start_time": "2020-04-17T22:19:07.381Z"
    }
   },
   "outputs": [],
   "source": [
    "#Choose score and load the data\n",
    "strin_score = strin_score_max #The stringency score to use\n",
    "smin = 50 #Level to set as minimum on color bar\n",
    "smax = 100 #Level to set as max on color bar\n",
    "colors = sns.color_palette('coolwarm',101) #colors\n",
    "thresh = 500 #Threshold for including countries\n",
    "current_fatalities = deaths.iloc[-1].sort_index().drop('US')\n",
    "top_countries = current_fatalities.loc[current_fatalities>thresh].index.tolist()\n",
    "\n",
    "#Set up the colors\n",
    "strin_score = strin_score-smin\n",
    "strin_score.loc[strin_score<0] = 0\n",
    "strin_score = 100*strin_score/(smax-smin)\n",
    "strin_score[strin_score>100] = 100\n",
    "\n",
    "#Make per-capita data\n",
    "populations = pd.to_numeric(pd.read_csv('input/populations.csv').fillna(value='NaN').set_index(['Country/Region','Province/State']).squeeze())\n",
    "predictions_pc = predictions_deaths.copy().loc[top_countries]\n",
    "for item in ['Nmax','Nmax_low','Nmax_high']:\n",
    "    #Measure by deaths per thousand\n",
    "    predictions_pc[item] = 1000*predictions_pc[item]/populations.loc[predictions_pc.index.tolist()]\n",
    "\n",
    "ms=6\n",
    "fig,ax=plt.subplots(figsize=(4,4))\n",
    "fig.subplots_adjust(left=0.16)\n",
    "for item in top_countries:\n",
    "    if item[0] == 'Brazil':\n",
    "        ax.annotate(item[0],(predictions_pc['sigma'].loc[item],0.8*predictions_pc['Nmax'].loc[item]))\n",
    "    elif item[0] == 'China':\n",
    "        ax.annotate('Hubei',(predictions_pc['sigma'].loc[item],predictions_pc['Nmax'].loc[item]))\n",
    "    elif item[0] == 'Portugal':\n",
    "        ax.annotate(item[0],(predictions_pc['sigma'].loc[item],1.4*predictions_pc['Nmax'].loc[item]))\n",
    "    elif item[0] == 'Germany':\n",
    "        ax.annotate(item[0],(0.5+predictions_pc['sigma'].loc[item],predictions_pc['Nmax'].loc[item]))\n",
    "    elif item[0] == 'United Kingdom':\n",
    "        ax.annotate('UK',(predictions_pc['sigma'].loc[item],predictions_pc['Nmax'].loc[item]))\n",
    "    else:\n",
    "        ax.annotate(item[0],(predictions_pc['sigma'].loc[item],predictions_pc['Nmax'].loc[item]))\n",
    "    ax.plot([predictions_pc['sigma_low'].loc[item],predictions_pc['sigma_high'].loc[item]],[predictions_pc['Nmax_low'].loc[item],predictions_pc['Nmax_high'].loc[item]],color=colors[int(strin_score.loc[item[0]])])\n",
    "    ax.plot([predictions_pc['sigma'].loc[item]],[predictions_pc['Nmax'].loc[item]],'o',color=colors[int(strin_score.loc[item[0]])],label=item[0],markersize=ms)\n",
    "    k+=1\n",
    "item = ('US','NaN')\n",
    "predictions_pc = predictions_deaths.copy().loc[item]\n",
    "for col in ['Nmax','Nmax_low','Nmax_high']:\n",
    "    predictions_pc[col] = 1000*predictions_pc[col]/populations.loc[item]\n",
    "ax.annotate('US',(predictions_pc['sigma'],predictions_pc['Nmax']))\n",
    "ax.plot([predictions_pc['sigma_low'],predictions_pc['sigma_high']],[predictions_pc['Nmax_low'],predictions_pc['Nmax_high']],color=colors[int(strin_score.loc['United States'])])\n",
    "ax.plot([predictions_pc['sigma']],[predictions_pc['Nmax']],'o',color=colors[int(strin_score.loc['United States'])],label=item[0],markersize=ms)\n",
    "ax.set_xlabel(r'Timescale $\\sigma$ (days)')\n",
    "ax.set_ylabel(r'Total fatalities $N_{\\rm max}$ per capita (deaths/1000)')\n",
    "pdf = bpdf.PdfPages('figures/top_world_scatter_str_pc.pdf')\n",
    "pdf.savefig(fig)\n",
    "pdf.close()\n",
    "plt.show()"
   ]
  },
  {
   "cell_type": "markdown",
   "metadata": {},
   "source": [
    "# Compare predictions"
   ]
  },
  {
   "cell_type": "markdown",
   "metadata": {},
   "source": [
    "First we need to format the data from IHME:"
   ]
  },
  {
   "cell_type": "code",
   "execution_count": null,
   "metadata": {
    "ExecuteTime": {
     "start_time": "2020-04-17T22:19:07.405Z"
    },
    "collapsed": true
   },
   "outputs": [],
   "source": [
    "IHME = pd.read_csv('input/2020_04_12.02/Hospitalization_all_locs.csv')\n",
    "IHME['date'] = pd.to_datetime(IHME['date'],format='%Y-%m-%d')\n",
    "IHME_predictions = pd.DataFrame(index=predictions_deaths.index,columns=['Nmax','Nmax_low','Nmax_high','th','th_low','th_high'])\n",
    "\n",
    "#Extract Nmax as max of totdea\n",
    "Nmax = IHME.pivot_table(index='date',values='totdea_mean',columns='location_name').max()\n",
    "Nmax_high = IHME.pivot_table(index='date',values='totdea_upper',columns='location_name').max()\n",
    "Nmax_low = IHME.pivot_table(index='date',values='totdea_lower',columns='location_name').max()\n",
    "\n",
    "#Extract th as argmax of deaths\n",
    "th = (IHME.pivot_table(index='date',values='deaths_mean',columns='location_name').idxmax()).dt.strftime('%Y-%m-%d')\n",
    "th_high = (IHME.pivot_table(index='date',values='deaths_upper',columns='location_name').idxmax())\n",
    "th_low = (IHME.pivot_table(index='date',values='deaths_lower',columns='location_name').idxmax())\n",
    "\n",
    "#Construct table of predictions\n",
    "for name in set(IHME['location_name']):\n",
    "    if name in deaths.T.loc['US'].index.tolist():\n",
    "        item = ('US',name)\n",
    "    else:\n",
    "        item = (name,'NaN')\n",
    "    if item in IHME_predictions.index.tolist():\n",
    "        IHME_predictions.loc[item] = [Nmax.loc[name],Nmax_low.loc[name],Nmax_high.loc[name],\n",
    "                                      th.loc[name],th_low.loc[name],th_high.loc[name]]\n",
    "#Save for future reference\n",
    "IHME_predictions.to_csv('output/IHME_predictions.csv')"
   ]
  },
  {
   "cell_type": "markdown",
   "metadata": {},
   "source": [
    "## World"
   ]
  },
  {
   "cell_type": "code",
   "execution_count": null,
   "metadata": {
    "ExecuteTime": {
     "start_time": "2020-04-17T22:19:07.412Z"
    }
   },
   "outputs": [],
   "source": [
    "#Load fatalities and drop province index\n",
    "thresh = 500\n",
    "current_fatalities = deaths.iloc[-1].sort_index().drop('US')\n",
    "top_countries = current_fatalities.loc[current_fatalities>thresh].reset_index().set_index('Country/Region').index.tolist()\n",
    "\n",
    "#Join tables to make comparison\n",
    "pred_compare = predictions_deaths.join(IHME_predictions,rsuffix='_IHME').dropna().reset_index().T.drop('Province/State').T.set_index('Country/Region')\n",
    "#Extract countries above threshold that are also in the IHME list\n",
    "valid_regions = list(set(top_countries).intersection(set(pred_compare.index.tolist())))\n",
    "\n",
    "#Construct error bars\n",
    "pred_plot = pred_compare[['Nmax','Nmax_IHME']].loc[valid_regions]\n",
    "bottom = pred_plot['Nmax'].values - pred_compare['Nmax_low'].loc[valid_regions].values\n",
    "top = pred_compare['Nmax_high'].loc[valid_regions].values - pred_plot['Nmax'].values\n",
    "bottom_IHME = pred_plot['Nmax_IHME'].values - pred_compare['Nmax_low_IHME'].loc[valid_regions].values\n",
    "top_IHME = pred_compare['Nmax_high_IHME'].loc[valid_regions].values - pred_plot['Nmax_IHME'].values\n",
    "pred_err = np.asarray([np.vstack((bottom.T,top.T)),np.vstack((bottom_IHME.T,top_IHME.T))])\n",
    "\n",
    "#Make the plot\n",
    "fig,ax=plt.subplots()\n",
    "fig.subplots_adjust(bottom=0.35)\n",
    "pred_plot.plot.bar(ax=ax,yerr=pred_err)\n",
    "pdf = bpdf.PdfPages('figures/IHME_world.pdf')\n",
    "pdf.savefig(fig)\n",
    "pdf.close()\n",
    "plt.show()"
   ]
  },
  {
   "cell_type": "markdown",
   "metadata": {},
   "source": [
    "## US"
   ]
  },
  {
   "cell_type": "code",
   "execution_count": null,
   "metadata": {
    "ExecuteTime": {
     "start_time": "2020-04-17T22:19:07.419Z"
    },
    "collapsed": true
   },
   "outputs": [],
   "source": [
    "pred_compare = predictions_deaths.join(IHME_predictions,rsuffix='_IHME').dropna().reset_index().T.drop('Country/Region').T.set_index('Province/State')\n",
    "#Extract states that are above threshold and also in IHME list\n",
    "valid_regions = list(set(top_countries).intersection(set(pred_compare.index.tolist())))\n"
   ]
  },
  {
   "cell_type": "code",
   "execution_count": null,
   "metadata": {
    "ExecuteTime": {
     "start_time": "2020-04-17T22:19:07.423Z"
    }
   },
   "outputs": [],
   "source": [
    "#Load fatalities for US\n",
    "thresh = 500\n",
    "current_fatalities = deaths.iloc[-1].sort_index().loc['US'].drop('NaN')\n",
    "top_countries = current_fatalities.loc[current_fatalities>thresh].index.tolist()\n",
    "#Join IHME tables with our predictions, after dropping country index\n",
    "pred_compare = predictions_deaths.join(IHME_predictions,rsuffix='_IHME').dropna().reset_index().T.drop('Country/Region').T.set_index('Province/State')\n",
    "#Extract states that are above threshold and also in IHME list (should be all the ones above threshold)\n",
    "valid_regions = list(set(top_countries).intersection(set(pred_compare.index.tolist())))\n",
    "\n",
    "#Make error bars\n",
    "pred_plot = pred_compare[['Nmax','Nmax_IHME']].loc[valid_regions]\n",
    "bottom = pred_plot['Nmax'].values - pred_compare['Nmax_low'].loc[valid_regions].values\n",
    "top = pred_compare['Nmax_high'].loc[valid_regions].values - pred_plot['Nmax'].values\n",
    "bottom_IHME = pred_plot['Nmax_IHME'].values - pred_compare['Nmax_low_IHME'].loc[valid_regions].values\n",
    "top_IHME = pred_compare['Nmax_high_IHME'].loc[valid_regions].values - pred_plot['Nmax_IHME'].values\n",
    "pred_err = np.asarray([np.vstack((bottom.T,top.T)),np.vstack((bottom_IHME.T,top_IHME.T))])\n",
    "\n",
    "#Plot\n",
    "fig,ax=plt.subplots()\n",
    "fig.subplots_adjust(bottom=0.35)\n",
    "pred_plot.plot.bar(ax=ax,yerr=pred_err)\n",
    "ax.set_ylim((None,28000))\n",
    "pdf = bpdf.PdfPages('figures/IHME_US.pdf')\n",
    "pdf.savefig(fig)\n",
    "pdf.close()\n",
    "plt.show()"
   ]
  },
  {
   "cell_type": "markdown",
   "metadata": {},
   "source": [
    "# Methods"
   ]
  },
  {
   "cell_type": "markdown",
   "metadata": {
    "collapsed": true
   },
   "source": [
    "First, we show that the distribution is effectively one-dimensional. We start by computing the Hessian."
   ]
  },
  {
   "cell_type": "code",
   "execution_count": null,
   "metadata": {
    "ExecuteTime": {
     "start_time": "2020-04-17T22:19:07.432Z"
    }
   },
   "outputs": [],
   "source": [
    "country = 'Italy'\n",
    "region = 'NaN'\n",
    "p0 = 50\n",
    "\n",
    "#Go 15 days before peak\n",
    "today = (deaths.index[-1]-tref)/timedelta(days=1)\n",
    "th = params_deaths.loc[country,region]['th']\n",
    "days_back=15\n",
    "mask = int(today-th+days_back)\n",
    "data = deaths[country,region].iloc[:-mask]\n",
    "\n",
    "#Fit the data\n",
    "params,parm0,s = fit_erf(data,p0=p0)\n",
    "\n",
    "#Compute the Hessian\n",
    "train = pd.to_numeric(data.loc[data>p0])\n",
    "train.index=(train.index-tref)/timedelta(days=1)\n",
    "sig_xi2 = params[-1]\n",
    "H = hess_p(params[:-1],train,None)\n",
    "\n",
    "#Look at the spectrum\n",
    "print(np.linalg.eig(H))\n",
    "\n",
    "#Marginalize over th\n",
    "H = np.linalg.inv(H)[1:,:]\n",
    "H = np.linalg.inv(H[:,1:])"
   ]
  },
  {
   "cell_type": "markdown",
   "metadata": {},
   "source": [
    "Now we use the Hessian to generate the Gaussian approximation for the posterior probability over log $N_{\\rm max}$ and $\\sigma$ (we marginalized out $t_h$ in the last step above):"
   ]
  },
  {
   "cell_type": "code",
   "execution_count": null,
   "metadata": {
    "ExecuteTime": {
     "start_time": "2020-04-17T22:19:07.438Z"
    }
   },
   "outputs": [],
   "source": [
    "delta = 0.1\n",
    "sigma = np.arange(1, 15, delta)\n",
    "logK = np.arange(1, 15, delta)\n",
    "X, Y = np.meshgrid(sigma, logK)\n",
    "logK0 = params[1]\n",
    "sig0 = params[2]\n",
    "C = [[(np.asarray([Y[j,k]-logK0,X[j,k]-sig0])[np.newaxis,:].dot(H.dot(np.asarray([Y[j,k]-logK0,X[j,k]-sig0])))).squeeze() \n",
    "      for k in range(len(X.T))] for j in range(len(X))]\n",
    "\n",
    "fig,ax=plt.subplots(figsize=(4,2))\n",
    "fig.subplots_adjust(bottom=0.2,left=0.2)\n",
    "levels = np.logspace(-9,0,10)\n",
    "ax.contour(X,Y,np.exp(-np.asarray(C/sig_xi2)),levels=levels)\n",
    "ax.set_xlabel(r'$\\sigma$')\n",
    "ax.set_ylabel(r'log $N_{\\rm max}$')\n",
    "pdf = bpdf.PdfPages('figures/hessian.pdf')\n",
    "pdf.savefig(fig)\n",
    "pdf.close()\n",
    "plt.show()"
   ]
  },
  {
   "cell_type": "markdown",
   "metadata": {},
   "source": [
    "Finally, we look at the full, non-Gaussian distribution over $\\sigma$, confining ourselves to the 1-dimensional ridge where $t_h$ and $N_{\\rm max}$ are assigned their best-fit values at each value of $\\sigma$:"
   ]
  },
  {
   "cell_type": "code",
   "execution_count": null,
   "metadata": {
    "ExecuteTime": {
     "start_time": "2020-04-17T22:19:07.444Z"
    }
   },
   "outputs": [],
   "source": [
    "fig,ax=plt.subplots(figsize=(4,3))\n",
    "fig.subplots_adjust(bottom=0.2,left=0.2)\n",
    "c = 0.95\n",
    "M = len(train)\n",
    "params_sweep = sweep_sigma(params,data,p0)\n",
    "sigma, prob,scoremax = get_score_thresh(params_sweep,M,0.95)\n",
    "ax.plot(sigma,prob,'k')\n",
    "score = params_sweep[1:,3]\n",
    "ax.fill_between(sigma[score<=scoremax],prob[score<=scoremax])\n",
    "\n",
    "sigma = params_sweep[:,2]\n",
    "dsig = np.diff(sigma)\n",
    "sigma = sigma[1:]\n",
    "pcut = np.exp(-scoremax*M/(2*sig_xi2))/(np.exp(-score*M/(2*sig_xi2))*dsig).sum()\n",
    "ax.plot([0,50],[pcut,pcut],'k--')\n",
    "\n",
    "ax.set_xlabel(r'$\\sigma$')\n",
    "ax.set_ylabel(r'$p(\\sigma|N_i)$')\n",
    "ax.set_xlim((5,50))\n",
    "ax.set_ylim((0,0.2))\n",
    "pdf = bpdf.PdfPages('figures/psig.pdf')\n",
    "pdf.savefig(fig)\n",
    "pdf.close()\n",
    "plt.show()\n",
    "plt.show()"
   ]
  },
  {
   "cell_type": "markdown",
   "metadata": {},
   "source": [
    "Zoom in to see better:"
   ]
  },
  {
   "cell_type": "code",
   "execution_count": null,
   "metadata": {
    "ExecuteTime": {
     "start_time": "2020-04-17T22:19:07.450Z"
    }
   },
   "outputs": [],
   "source": [
    "fig,ax=plt.subplots(figsize=(4,2))\n",
    "ax.plot(sigma,prob,'k')\n",
    "ax.fill_between(sigma[score<=scoremax],prob[score<=scoremax])\n",
    "pcut = np.exp(-scoremax*M/(2*sig_xi2))/(np.exp(-score*M/(2*sig_xi2))*dsig).sum()\n",
    "ax.plot([0,50],[pcut,pcut],'k--')\n",
    "\n",
    "ax.set_xlim((5,50))\n",
    "ax.set_ylim((0,0.01))\n",
    "pdf = bpdf.PdfPages('figures/psig_in.pdf')\n",
    "pdf.savefig(fig)\n",
    "pdf.close()\n",
    "plt.show()\n",
    "plt.show()"
   ]
  },
  {
   "cell_type": "code",
   "execution_count": null,
   "metadata": {
    "collapsed": true
   },
   "outputs": [],
   "source": []
  }
 ],
 "metadata": {
  "kernelspec": {
   "display_name": "Python 3",
   "language": "python",
   "name": "python3"
  },
  "language_info": {
   "codemirror_mode": {
    "name": "ipython",
    "version": 3
   },
   "file_extension": ".py",
   "mimetype": "text/x-python",
   "name": "python",
   "nbconvert_exporter": "python",
   "pygments_lexer": "ipython3",
   "version": "3.6.2"
  },
  "toc": {
   "base_numbering": 1,
   "nav_menu": {},
   "number_sections": true,
   "sideBar": true,
   "skip_h1_title": false,
   "title_cell": "Table of Contents",
   "title_sidebar": "Contents",
   "toc_cell": false,
   "toc_position": {
    "height": "calc(100% - 180px)",
    "left": "10px",
    "top": "150px",
    "width": "301px"
   },
   "toc_section_display": true,
   "toc_window_display": true
  },
  "varInspector": {
   "cols": {
    "lenName": 16,
    "lenType": 16,
    "lenVar": 40
   },
   "kernels_config": {
    "python": {
     "delete_cmd_postfix": "",
     "delete_cmd_prefix": "del ",
     "library": "var_list.py",
     "varRefreshCmd": "print(var_dic_list())"
    },
    "r": {
     "delete_cmd_postfix": ") ",
     "delete_cmd_prefix": "rm(",
     "library": "var_list.r",
     "varRefreshCmd": "cat(var_dic_list()) "
    }
   },
   "types_to_exclude": [
    "module",
    "function",
    "builtin_function_or_method",
    "instance",
    "_Feature"
   ],
   "window_display": false
  }
 },
 "nbformat": 4,
 "nbformat_minor": 2
}
